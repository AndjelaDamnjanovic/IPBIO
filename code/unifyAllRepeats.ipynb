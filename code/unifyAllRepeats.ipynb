{
 "cells": [
  {
   "cell_type": "code",
   "execution_count": null,
   "id": "d6314a01-e1f2-4e3b-ad48-eb9fce51633e",
   "metadata": {},
   "outputs": [],
   "source": [
    "# SREDITI MALO OVAJ KOD"
   ]
  },
  {
   "cell_type": "code",
   "execution_count": 1,
   "id": "e3b69006-eec1-4ed6-aa12-f2f5e8e5b0a1",
   "metadata": {},
   "outputs": [],
   "source": [
    "files = ['../directMaximalRepeatsDC.txt', '../directMaximalRepeatsDN.txt', '../directMaximalRepeatsIC.txt', '../directMaximalRepeatsIN.txt']\n",
    "with open('../maxRepeats/allMaxDirectRepeats.txt', 'w') as f:\n",
    "    for file in files:\n",
    "        with open(file, 'r') as fin:\n",
    "            lines = fin.readlines()\n",
    "            for line in lines:\n",
    "                if len(line.strip()) == 0:\n",
    "                    continue\n",
    "                f.write(line)\n"
   ]
  },
  {
   "cell_type": "code",
   "execution_count": 6,
   "id": "3641cd8a-9e10-49a0-890f-0a13629085e9",
   "metadata": {},
   "outputs": [],
   "source": [
    "files = ['../repeats/directRepeats1.txt', '../repeats/indirectRepeats1.txt', '../repeats/directRepeats6.txt', '../repeats/indirectRepeats6.txt']\n",
    "with open('../repeats/allMaxRepeats1.txt', 'w') as f:\n",
    "    for file in files:\n",
    "        with open(file, 'r') as fin:\n",
    "            lines = fin.readlines()\n",
    "            for line in lines:\n",
    "                if len(line.strip()) == 0:\n",
    "                    continue\n",
    "                f.write(line)"
   ]
  },
  {
   "cell_type": "code",
   "execution_count": 2,
   "id": "0f44833c-e27f-4e05-9565-ba7701640f60",
   "metadata": {},
   "outputs": [],
   "source": [
    "files = ['../repeats/directRepeats2.txt', '../repeats/indirectRepeats2.txt']\n",
    "with open('../repeats/allMaxRepeats2.txt', 'w') as f:\n",
    "    for file in files:\n",
    "        with open(file, 'r') as fin:\n",
    "            lines = fin.readlines()\n",
    "            for line in lines:\n",
    "                if len(line.strip()) == 0:\n",
    "                    continue\n",
    "                f.write(line)"
   ]
  },
  {
   "cell_type": "code",
   "execution_count": 3,
   "id": "e7a4cb58-a11c-4709-ba0f-f92e2b944589",
   "metadata": {},
   "outputs": [],
   "source": [
    "files = ['../repeats/directRepeats3.txt', '../repeats/indirectRepeats3.txt']\n",
    "with open('../repeats/allMaxRepeats3.txt', 'w') as f:\n",
    "    for file in files:\n",
    "        with open(file, 'r') as fin:\n",
    "            lines = fin.readlines()\n",
    "            for line in lines:\n",
    "                if len(line.strip()) == 0:\n",
    "                    continue\n",
    "                f.write(line)"
   ]
  },
  {
   "cell_type": "code",
   "execution_count": 7,
   "id": "6564159b-5448-486c-ad95-218f42633586",
   "metadata": {},
   "outputs": [],
   "source": [
    "files = ['../repeats/directRepeats4.txt', '../repeats/indirectRepeats4.txt', '../repeats/directRepeats6.txt', '../repeats/indirectRepeats6.txt']\n",
    "with open('../repeats/allMaxRepeats4.txt', 'w') as f:\n",
    "    for file in files:\n",
    "        with open(file, 'r') as fin:\n",
    "            lines = fin.readlines()\n",
    "            for line in lines:\n",
    "                if len(line.strip()) == 0:\n",
    "                    continue\n",
    "                f.write(line)"
   ]
  },
  {
   "cell_type": "code",
   "execution_count": 8,
   "id": "4b099184-0686-496a-8bf2-1ab196fcb967",
   "metadata": {},
   "outputs": [],
   "source": [
    "files = ['../repeats/directRepeats5.txt', '../repeats/indirectRepeats5.txt', '../repeats/directRepeats6.txt', '../repeats/indirectRepeats6.txt']\n",
    "with open('../repeats/allMaxRepeats5.txt', 'w') as f:\n",
    "    for file in files:\n",
    "        with open(file, 'r') as fin:\n",
    "            lines = fin.readlines()\n",
    "            for line in lines:\n",
    "                if len(line.strip()) == 0:\n",
    "                    continue\n",
    "                f.write(line)"
   ]
  },
  {
   "cell_type": "code",
   "execution_count": null,
   "id": "f9925e9f-3972-41ea-8821-cac4cc317ebc",
   "metadata": {},
   "outputs": [],
   "source": []
  },
  {
   "cell_type": "code",
   "execution_count": null,
   "id": "ed3fd771-a491-4353-bd0b-2af47528e227",
   "metadata": {},
   "outputs": [],
   "source": []
  }
 ],
 "metadata": {
  "kernelspec": {
   "display_name": "Python 3 (ipykernel)",
   "language": "python",
   "name": "python3"
  },
  "language_info": {
   "codemirror_mode": {
    "name": "ipython",
    "version": 3
   },
   "file_extension": ".py",
   "mimetype": "text/x-python",
   "name": "python",
   "nbconvert_exporter": "python",
   "pygments_lexer": "ipython3",
   "version": "3.10.12"
  }
 },
 "nbformat": 4,
 "nbformat_minor": 5
}
