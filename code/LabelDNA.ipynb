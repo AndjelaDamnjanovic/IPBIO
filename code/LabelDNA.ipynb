{
 "cells": [
  {
   "cell_type": "code",
   "execution_count": 35,
   "id": "c2de2866-db19-4ab3-9801-d6b4d2e4bfca",
   "metadata": {},
   "outputs": [],
   "source": [
    "import os"
   ]
  },
  {
   "cell_type": "code",
   "execution_count": 36,
   "id": "2f953669-73fd-431a-9919-c95ccdeb338f",
   "metadata": {},
   "outputs": [],
   "source": [
    "import numpy as np\n",
    "import json\n",
    "\n",
    "def transform(sequence, start, end):\n",
    "    for i in range(start, end):\n",
    "        sequence[i] = 'd'\n",
    "        \n",
    "def labelSequences(outFile, testFile):\n",
    "    with open(outFile, \"r\") as f:\n",
    "        podaci = json.load(f)\n",
    "        n = len(podaci)\n",
    "\n",
    "        sequences = []\n",
    "        labels = []\n",
    "        ids = []\n",
    "    \n",
    "        for i in range(n):\n",
    "            sequence = podaci[i]['sequence'] * 3\n",
    "            #print(podaci[i]['disprot_id'])\n",
    "            seq_len = len(sequence)\n",
    "\n",
    "            labels.append(['o']* seq_len)\n",
    "            regions = podaci[i]['disprot_consensus']['Structural state']\n",
    "            for region in regions:\n",
    "                if region[\"type\"] == \"D\":\n",
    "                    start = region[\"start\"] * 3\n",
    "                    #print(start)\n",
    "                    end = region[\"end\"] * 3\n",
    "                    #print(end)\n",
    "                    transform(labels[i], start - 1, end)\n",
    "            sequences.append(sequence)\n",
    "            ids.append(podaci[i]['disprot_id'])\n",
    "    with open(testFile, \"w\") as f:\n",
    "        for i in range(len(sequences)):\n",
    "            f.write(ids[i] + \" \")\n",
    "            f.writelines(''.join(labels[i]))\n",
    "            f.write(\"\\n\") "
   ]
  },
  {
   "cell_type": "code",
   "execution_count": 37,
   "id": "7100863f-7f4f-43ce-a38d-96b307df26d7",
   "metadata": {},
   "outputs": [],
   "source": [
    "labelSequences(\"../testSets/DNAtestSet.json\", \"../preprocessedFiles/labelTestDNA.txt\")\n",
    "# DODAJ TEST SEKVENCE U JSON "
   ]
  },
  {
   "cell_type": "code",
   "execution_count": null,
   "id": "a86dd600-fa81-4bef-8056-751fad99d46a",
   "metadata": {},
   "outputs": [],
   "source": []
  }
 ],
 "metadata": {
  "kernelspec": {
   "display_name": "Python 3 (ipykernel)",
   "language": "python",
   "name": "python3"
  },
  "language_info": {
   "codemirror_mode": {
    "name": "ipython",
    "version": 3
   },
   "file_extension": ".py",
   "mimetype": "text/x-python",
   "name": "python",
   "nbconvert_exporter": "python",
   "pygments_lexer": "ipython3",
   "version": "3.10.12"
  }
 },
 "nbformat": 4,
 "nbformat_minor": 5
}
