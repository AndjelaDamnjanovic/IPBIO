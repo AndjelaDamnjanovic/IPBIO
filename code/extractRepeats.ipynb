{
 "cells": [
  {
   "cell_type": "code",
   "execution_count": 1,
   "id": "7305057f-f214-4452-99ea-10b7accc174b",
   "metadata": {},
   "outputs": [],
   "source": [
    "def intersects(start, length, starts, ends):\n",
    "    end = start + length\n",
    "    for i in range(len(starts)):\n",
    "        ranges = range(starts[i], ends[i] + 1)\n",
    "        if (start in ranges or end in ranges):\n",
    "            return True\n",
    "    return False"
   ]
  },
  {
   "cell_type": "code",
   "execution_count": 2,
   "id": "309147cd-fb12-4568-9486-c34eb7cb2633",
   "metadata": {},
   "outputs": [],
   "source": [
    "def isDisorder(start, length, starts, ends):\n",
    "    end = start + length\n",
    "    for i in range(len(starts)):\n",
    "        if start >= starts[i] and end <= ends[i]:\n",
    "            return True\n",
    "    return False"
   ]
  },
  {
   "cell_type": "code",
   "execution_count": 3,
   "id": "d6eaeb56-2399-4c2c-8fe5-345b12312aca",
   "metadata": {},
   "outputs": [],
   "source": [
    "import numpy as np\n",
    "import json\n",
    "\n",
    "# outfiles je u repeats/directRepeats1.txt, filename je directMaximalRepeats1.txt, a data je trainSet1.json \n",
    "def extractSequences(filename, outfile, data):\n",
    "    f_maxDirRep = open(filename, \"r\")\n",
    "    print(outfile)\n",
    "    with open(data) as f:\n",
    "        podaci = json.load(f)\n",
    "\n",
    "    j = 0\n",
    "    repeatMap = {}\n",
    "    \n",
    "    with open(outfile, \"w\") as out:\n",
    "        disprot_id = podaci[j]['disprot_id']\n",
    "        existing_pairs = []\n",
    "        \n",
    "        for line in f_maxDirRep:\n",
    "            \n",
    "            split_line = line.strip().split(',')\n",
    "            id = split_line[0].strip()\n",
    "            \n",
    "            if id != disprot_id:\n",
    "                j += 1\n",
    "                disprot_id = id\n",
    "                existing_pairs.clear()\n",
    "            \n",
    "            start1 = int(split_line[1].strip())\n",
    "            \n",
    "            start2 = int(split_line[3].strip())\n",
    "\n",
    "            length = int(split_line[5].strip())\n",
    "\n",
    "            fst_pair = (start1, start1 + length)\n",
    "            snd_pair = (start2, start2 + length)\n",
    "            fst_in = 0\n",
    "            snd_in = 0\n",
    "            if(fst_pair not in existing_pairs):\n",
    "                fst_in = 1\n",
    "                existing_pairs.append((start1, start1 + length))\n",
    "            if snd_pair not in existing_pairs:\n",
    "                snd_in = 1\n",
    "                existing_pairs.append((start2, start2 + length))\n",
    "            \n",
    "            sequence = split_line[6].strip()\n",
    "\n",
    "            \n",
    "            regions = podaci[j]['disprot_consensus']['Structural state']\n",
    "\n",
    "            starts, ends = [], []\n",
    "            for region in regions:\n",
    "                if region[\"type\"] == \"D\":\n",
    "                    starts.append(region[\"start\"])\n",
    "                    ends.append(region[\"end\"])\n",
    "\n",
    "            if sequence not in repeatMap:\n",
    "                repeatMap[sequence] = np.array([0, 0, 0])\n",
    "\n",
    "            if fst_in:\n",
    "            # PROBLEM: AKO IMA VISE ISTIH POZICIJA, TO SE NIGDE NE SREDJUJE, PA IMA I DUPLIKATA\n",
    "                if isDisorder(start1, length, starts, ends):\n",
    "                    repeatMap[sequence][0] += 1\n",
    "                elif intersects(start1, length, starts, ends):\n",
    "                    repeatMap[sequence][1] += 1\n",
    "                else:\n",
    "                    repeatMap[sequence][2] += 1\n",
    "            if snd_in:\n",
    "                if isDisorder(start2, length, starts, ends):\n",
    "                    repeatMap[sequence][0] += 1\n",
    "                elif intersects(start2, length, starts, ends):\n",
    "                    repeatMap[sequence][1] += 1\n",
    "                else:\n",
    "                    repeatMap[sequence][2] += 1\n",
    "\n",
    "            if len(repeatMap) >= 7000000:\n",
    "                for key, value in repeatMap.items():  \n",
    "                    out.write(f'{key}:{value}\\n')\n",
    "                repeatMap.clear()\n",
    "            \n",
    "            starts.clear()\n",
    "            ends.clear()\n",
    "        f_maxDirRep.close()\n",
    "        for key, value in repeatMap.items():  \n",
    "            out.write(f'{key}:{value}\\n')"
   ]
  },
  {
   "cell_type": "code",
   "execution_count": 4,
   "id": "d9f3f11f-ed99-47d8-89b0-2bd2e0136ee2",
   "metadata": {},
   "outputs": [],
   "source": [
    "def writeSequencesToFile(inFiles, outFiles, data):\n",
    "    for i in range(len(inFiles)):\n",
    "        extractSequences(inFiles[i], outFiles[i], data[i])"
   ]
  },
  {
   "cell_type": "code",
   "execution_count": 5,
   "id": "dc1b8c0c-b8c9-41f1-ab5e-e0d8eb5c3b3e",
   "metadata": {},
   "outputs": [
    {
     "name": "stdout",
     "output_type": "stream",
     "text": [
      "../repeats/directRepeats1.txt\n"
     ]
    }
   ],
   "source": [
    "outFiles = [\"../repeats/directRepeats1.txt\"]\n",
    "inFiles = [\"../maxRepeats/directMaximalRepeats1.txt\"]\n",
    "data = [\"../trainSets/trainSet1.json\"]\n",
    "writeSequencesToFile(inFiles, outFiles, data)"
   ]
  },
  {
   "cell_type": "code",
   "execution_count": 6,
   "id": "7cbefa0b-72a6-46f8-8d83-1ab96badfe16",
   "metadata": {},
   "outputs": [
    {
     "name": "stdout",
     "output_type": "stream",
     "text": [
      "../repeats/directRepeats2.txt\n"
     ]
    }
   ],
   "source": [
    "outFiles = [\"../repeats/directRepeats2.txt\"]\n",
    "inFiles = [\"../maxRepeats/directMaximalRepeats2.txt\"]\n",
    "data = [\"../trainSets/trainSet2.json\"]\n",
    "writeSequencesToFile(inFiles, outFiles, data)"
   ]
  },
  {
   "cell_type": "code",
   "execution_count": 7,
   "id": "04aca5eb-e53d-461a-933d-b06a305ebcac",
   "metadata": {},
   "outputs": [
    {
     "name": "stdout",
     "output_type": "stream",
     "text": [
      "../repeats/directRepeats3.txt\n"
     ]
    }
   ],
   "source": [
    "outFiles = [\"../repeats/directRepeats3.txt\"]\n",
    "inFiles = [\"../maxRepeats/directMaximalRepeats3.txt\"]\n",
    "data = [\"../trainSets/trainSet3.json\"]\n",
    "writeSequencesToFile(inFiles, outFiles, data)"
   ]
  },
  {
   "cell_type": "code",
   "execution_count": 8,
   "id": "980f3479-147c-4f5a-bb18-f00b186318ec",
   "metadata": {},
   "outputs": [
    {
     "name": "stdout",
     "output_type": "stream",
     "text": [
      "../repeats/directRepeats4.txt\n"
     ]
    }
   ],
   "source": [
    "outFiles = [\"../repeats/directRepeats4.txt\"]\n",
    "inFiles = [\"../maxRepeats/directMaximalRepeats4.txt\"]\n",
    "data = [\"../trainSets/trainSet4.json\"]\n",
    "writeSequencesToFile(inFiles, outFiles, data)"
   ]
  },
  {
   "cell_type": "code",
   "execution_count": 9,
   "id": "1d2f9db3-bb54-4041-857c-444de89c348a",
   "metadata": {},
   "outputs": [
    {
     "name": "stdout",
     "output_type": "stream",
     "text": [
      "../repeats/directRepeats5.txt\n"
     ]
    }
   ],
   "source": [
    "outFiles = [\"../repeats/directRepeats5.txt\"]\n",
    "inFiles = [\"../maxRepeats/directMaximalRepeats5.txt\"]\n",
    "data = [\"../trainSets/trainSet5.json\"]\n",
    "writeSequencesToFile(inFiles, outFiles, data)"
   ]
  },
  {
   "cell_type": "code",
   "execution_count": 10,
   "id": "48ed42ea-a3fa-4664-a460-3b299b3f21c2",
   "metadata": {},
   "outputs": [
    {
     "name": "stdout",
     "output_type": "stream",
     "text": [
      "../repeats/directRepeats6.txt\n"
     ]
    }
   ],
   "source": [
    "outFiles = [\"../repeats/directRepeats6.txt\"]\n",
    "inFiles = [\"../maxRepeats/directMaximalRepeats6.txt\"]\n",
    "data = [\"../trainSets/train72.json\"]\n",
    "writeSequencesToFile(inFiles, outFiles, data)"
   ]
  },
  {
   "cell_type": "code",
   "execution_count": 11,
   "id": "ca53cea0-d5ca-4eb9-b307-b7edc61d244f",
   "metadata": {},
   "outputs": [
    {
     "name": "stdout",
     "output_type": "stream",
     "text": [
      "../repeats/indirectRepeats1.txt\n"
     ]
    }
   ],
   "source": [
    "outFiles = [\"../repeats/indirectRepeats1.txt\"]\n",
    "inFiles = [\"../maxRepeats/indirectMaximalRepeats1.txt\"]\n",
    "data = [\"../trainSets/trainSet1.json\"]\n",
    "writeSequencesToFile(inFiles, outFiles, data)"
   ]
  },
  {
   "cell_type": "code",
   "execution_count": 12,
   "id": "2ee9d69d-66b9-4e9e-aa1a-8558ff70eac9",
   "metadata": {},
   "outputs": [
    {
     "name": "stdout",
     "output_type": "stream",
     "text": [
      "../repeats/indirectRepeats2.txt\n"
     ]
    }
   ],
   "source": [
    "outFiles = [\"../repeats/indirectRepeats2.txt\"]\n",
    "inFiles = [\"../maxRepeats/indirectMaximalRepeats2.txt\"]\n",
    "data = [\"../trainSets/trainSet2.json\"]\n",
    "writeSequencesToFile(inFiles, outFiles, data)"
   ]
  },
  {
   "cell_type": "code",
   "execution_count": 13,
   "id": "1f1c3357-acd7-4051-b2ab-74bc6ceef498",
   "metadata": {},
   "outputs": [
    {
     "name": "stdout",
     "output_type": "stream",
     "text": [
      "../repeats/indirectRepeats3.txt\n"
     ]
    }
   ],
   "source": [
    "outFiles = [\"../repeats/indirectRepeats3.txt\"]\n",
    "inFiles = [\"../maxRepeats/indirectMaximalRepeats3.txt\"]\n",
    "data = [\"../trainSets/trainSet3.json\"]\n",
    "writeSequencesToFile(inFiles, outFiles, data)"
   ]
  },
  {
   "cell_type": "code",
   "execution_count": 14,
   "id": "891cd43b-7a10-4bb0-af0e-b8d37ff87290",
   "metadata": {},
   "outputs": [
    {
     "name": "stdout",
     "output_type": "stream",
     "text": [
      "../repeats/indirectRepeats4.txt\n"
     ]
    }
   ],
   "source": [
    "outFiles = [\"../repeats/indirectRepeats4.txt\"]\n",
    "inFiles = [\"../maxRepeats/indirectMaximalRepeats4.txt\"]\n",
    "data = [\"../trainSets/trainSet4.json\"]\n",
    "writeSequencesToFile(inFiles, outFiles, data)"
   ]
  },
  {
   "cell_type": "code",
   "execution_count": 15,
   "id": "4f6b86ca-ab10-4926-8322-1cb65ce7dc83",
   "metadata": {},
   "outputs": [
    {
     "name": "stdout",
     "output_type": "stream",
     "text": [
      "../repeats/indirectRepeats5.txt\n"
     ]
    }
   ],
   "source": [
    "outFiles = [\"../repeats/indirectRepeats5.txt\"]\n",
    "inFiles = [\"../maxRepeats/indirectMaximalRepeats5.txt\"]\n",
    "data = [\"../trainSets/trainSet5.json\"]\n",
    "writeSequencesToFile(inFiles, outFiles, data)"
   ]
  },
  {
   "cell_type": "code",
   "execution_count": 16,
   "id": "a870bc5d-a6fb-4e82-beb5-06e9ea599da9",
   "metadata": {},
   "outputs": [
    {
     "name": "stdout",
     "output_type": "stream",
     "text": [
      "../repeats/indirectRepeats6.txt\n"
     ]
    }
   ],
   "source": [
    "outFiles = [\"../repeats/indirectRepeats6.txt\"]\n",
    "inFiles = [\"../maxRepeats/indirectMaximalRepeats6.txt\"]\n",
    "data = [\"../trainSets/train72.json\"]\n",
    "writeSequencesToFile(inFiles, outFiles, data)"
   ]
  },
  {
   "cell_type": "code",
   "execution_count": null,
   "id": "0f1a658d-09da-4940-bbb9-38b83c55599e",
   "metadata": {},
   "outputs": [],
   "source": []
  }
 ],
 "metadata": {
  "kernelspec": {
   "display_name": "Python 3 (ipykernel)",
   "language": "python",
   "name": "python3"
  },
  "language_info": {
   "codemirror_mode": {
    "name": "ipython",
    "version": 3
   },
   "file_extension": ".py",
   "mimetype": "text/x-python",
   "name": "python",
   "nbconvert_exporter": "python",
   "pygments_lexer": "ipython3",
   "version": "3.10.12"
  }
 },
 "nbformat": 4,
 "nbformat_minor": 5
}
