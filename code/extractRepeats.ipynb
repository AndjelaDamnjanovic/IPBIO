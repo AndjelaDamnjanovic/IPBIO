{
 "cells": [
  {
   "cell_type": "code",
   "execution_count": 1,
   "id": "7305057f-f214-4452-99ea-10b7accc174b",
   "metadata": {},
   "outputs": [],
   "source": [
    "def intersects(start, length, starts, ends):\n",
    "    end = start + length\n",
    "    for i in range(len(starts)):\n",
    "        ranges = range(starts[i], ends[i] + 1)\n",
    "        if (start in ranges or end in ranges):\n",
    "            return True\n",
    "    return False"
   ]
  },
  {
   "cell_type": "code",
   "execution_count": 2,
   "id": "309147cd-fb12-4568-9486-c34eb7cb2633",
   "metadata": {},
   "outputs": [],
   "source": [
    "def isDisorder(start, length, starts, ends):\n",
    "    end = start + length\n",
    "    for i in range(len(starts)):\n",
    "        if start >= starts[i] and end <= ends[i]:\n",
    "            return True\n",
    "    return False"
   ]
  },
  {
   "cell_type": "code",
   "execution_count": 62,
   "id": "d6eaeb56-2399-4c2c-8fe5-345b12312aca",
   "metadata": {},
   "outputs": [],
   "source": [
    "import numpy as np\n",
    "import json\n",
    "\n",
    "# outfiles je u repeats/directRepeats1.txt, filename je directMaximalRepeats1.txt, a data je trainSet1.json \n",
    "def extractSequences(filename, outfile, data):\n",
    "    f_maxDirRep = open(filename, \"r\")\n",
    "    print(outfile)\n",
    "    with open(data) as f:\n",
    "        podaci = json.load(f)\n",
    "\n",
    "    j = 0\n",
    "    repeatMap = {}\n",
    "    \n",
    "    with open(outfile, \"w\") as out:\n",
    "        disprot_id = podaci[j]['disprot_id']\n",
    "        existing_pairs = []\n",
    "        \n",
    "        for line in f_maxDirRep:\n",
    "            \n",
    "            split_line = line.strip().split(',')\n",
    "            id = split_line[0].strip()\n",
    "            \n",
    "            if id != disprot_id:\n",
    "                j += 1\n",
    "                disprot_id = id\n",
    "                existing_pairs.clear()\n",
    "            \n",
    "            start1 = int(split_line[1].strip())\n",
    "            \n",
    "            start2 = int(split_line[3].strip())\n",
    "\n",
    "            length = int(split_line[5].strip())\n",
    "\n",
    "            fst_pair = (start1, start1 + length)\n",
    "            snd_pair = (start2, start2 + length)\n",
    "            fst_in = 0\n",
    "            snd_in = 0\n",
    "            if(fst_pair not in existing_pairs):\n",
    "                fst_in = 1\n",
    "                existing_pairs.append((start1, start1 + length))\n",
    "            if snd_pair not in existing_pairs:\n",
    "                snd_in = 1\n",
    "                existing_pairs.append((start2, start2 + length))\n",
    "            \n",
    "            sequence = split_line[6].strip()\n",
    "\n",
    "            \n",
    "            regions = podaci[j]['disprot_consensus']['Structural state']\n",
    "\n",
    "            starts, ends = [], []\n",
    "            for region in regions:\n",
    "                if region[\"type\"] == \"D\":\n",
    "                    starts.append(region[\"start\"])\n",
    "                    ends.append(region[\"end\"])\n",
    "\n",
    "            if sequence not in repeatMap:\n",
    "                repeatMap[sequence] = np.array([0, 0, 0])\n",
    "\n",
    "            if fst_in:\n",
    "            # PROBLEM: AKO IMA VISE ISTIH POZICIJA, TO SE NIGDE NE SREDJUJE, PA IMA I DUPLIKATA\n",
    "                if isDisorder(start1, length, starts, ends):\n",
    "                    repeatMap[sequence][0] += 1\n",
    "                elif intersects(start1, length, starts, ends):\n",
    "                    repeatMap[sequence][1] += 1\n",
    "                else:\n",
    "                    repeatMap[sequence][2] += 1\n",
    "            if snd_in:\n",
    "                if isDisorder(start2, length, starts, ends):\n",
    "                    repeatMap[sequence][0] += 1\n",
    "                elif intersects(start2, length, starts, ends):\n",
    "                    repeatMap[sequence][1] += 1\n",
    "                else:\n",
    "                    repeatMap[sequence][2] += 1\n",
    "\n",
    "            if len(repeatMap) >= 7000000:\n",
    "                for key, value in repeatMap.items():  \n",
    "                    out.write(f'{key}:{value}\\n')\n",
    "                repeatMap.clear()\n",
    "            \n",
    "            starts.clear()\n",
    "            ends.clear()\n",
    "        f_maxDirRep.close()\n",
    "        for key, value in repeatMap.items():  \n",
    "            out.write(f'{key}:{value}\\n')"
   ]
  },
  {
   "cell_type": "code",
   "execution_count": 63,
   "id": "d9f3f11f-ed99-47d8-89b0-2bd2e0136ee2",
   "metadata": {},
   "outputs": [],
   "source": [
    "def writeSequencesToFile(inFiles, outFiles, data):\n",
    "    for i in range(len(inFiles)):\n",
    "        extractSequences(inFiles[i], outFiles[i], data[i])"
   ]
  },
  {
   "cell_type": "code",
   "execution_count": 64,
   "id": "146acb25-dcd3-4562-9a9e-5cca0d700373",
   "metadata": {},
   "outputs": [
    {
     "name": "stdout",
     "output_type": "stream",
     "text": [
      "../repeats/directRepeats1.txt\n"
     ]
    }
   ],
   "source": [
    "outFiles = [\"../repeats/directRepeats1.txt\"]\n",
    "inFiles = [\"../maxRepeats/directMaximalRepeats1.txt\"]\n",
    "data = [\"../trainSets/trainSet1.json\"]\n",
    "writeSequencesToFile(inFiles, outFiles, data)"
   ]
  },
  {
   "cell_type": "code",
   "execution_count": 65,
   "id": "7cbefa0b-72a6-46f8-8d83-1ab96badfe16",
   "metadata": {},
   "outputs": [
    {
     "name": "stdout",
     "output_type": "stream",
     "text": [
      "../repeats/directRepeats2.txt\n"
     ]
    }
   ],
   "source": [
    "outFiles = [\"../repeats/directRepeats2.txt\"]\n",
    "inFiles = [\"../maxRepeats/directMaximalRepeats2.txt\"]\n",
    "data = [\"../trainSets/trainSet2.json\"]\n",
    "writeSequencesToFile(inFiles, outFiles, data)"
   ]
  },
  {
   "cell_type": "code",
   "execution_count": 66,
   "id": "04aca5eb-e53d-461a-933d-b06a305ebcac",
   "metadata": {},
   "outputs": [
    {
     "name": "stdout",
     "output_type": "stream",
     "text": [
      "../repeats/directRepeats3.txt\n"
     ]
    }
   ],
   "source": [
    "outFiles = [\"../repeats/directRepeats3.txt\"]\n",
    "inFiles = [\"../maxRepeats/directMaximalRepeats3.txt\"]\n",
    "data = [\"../trainSets/trainSet3.json\"]\n",
    "writeSequencesToFile(inFiles, outFiles, data)"
   ]
  },
  {
   "cell_type": "code",
   "execution_count": 67,
   "id": "980f3479-147c-4f5a-bb18-f00b186318ec",
   "metadata": {},
   "outputs": [
    {
     "name": "stdout",
     "output_type": "stream",
     "text": [
      "../repeats/directRepeats4.txt\n"
     ]
    }
   ],
   "source": [
    "outFiles = [\"../repeats/directRepeats4.txt\"]\n",
    "inFiles = [\"../maxRepeats/directMaximalRepeats4.txt\"]\n",
    "data = [\"../trainSets/trainSet4.json\"]\n",
    "writeSequencesToFile(inFiles, outFiles, data)"
   ]
  },
  {
   "cell_type": "code",
   "execution_count": 68,
   "id": "1d2f9db3-bb54-4041-857c-444de89c348a",
   "metadata": {},
   "outputs": [
    {
     "name": "stdout",
     "output_type": "stream",
     "text": [
      "../repeats/directRepeats5.txt\n"
     ]
    }
   ],
   "source": [
    "outFiles = [\"../repeats/directRepeats5.txt\"]\n",
    "inFiles = [\"../maxRepeats/directMaximalRepeats5.txt\"]\n",
    "data = [\"../trainSets/trainSet5.json\"]\n",
    "writeSequencesToFile(inFiles, outFiles, data)"
   ]
  },
  {
   "cell_type": "code",
   "execution_count": null,
   "id": "ca53cea0-d5ca-4eb9-b307-b7edc61d244f",
   "metadata": {},
   "outputs": [],
   "source": []
  }
 ],
 "metadata": {
  "kernelspec": {
   "display_name": "Python 3 (ipykernel)",
   "language": "python",
   "name": "python3"
  },
  "language_info": {
   "codemirror_mode": {
    "name": "ipython",
    "version": 3
   },
   "file_extension": ".py",
   "mimetype": "text/x-python",
   "name": "python",
   "nbconvert_exporter": "python",
   "pygments_lexer": "ipython3",
   "version": "3.10.12"
  }
 },
 "nbformat": 4,
 "nbformat_minor": 5
}
