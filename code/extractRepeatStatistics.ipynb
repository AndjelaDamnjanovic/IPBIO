{
 "cells": [
  {
   "cell_type": "code",
   "execution_count": 1,
   "id": "5a6f34bc-9753-4b89-9559-dae823eb7e36",
   "metadata": {},
   "outputs": [],
   "source": [
    "import os"
   ]
  },
  {
   "cell_type": "code",
   "execution_count": 2,
   "id": "05f5527c-c5d9-4de9-afa6-7a8cf54ddb92",
   "metadata": {},
   "outputs": [],
   "source": [
    "def compare(valuesId, valuesLine, myId, predictionLine, outputFile):\n",
    "    if valuesId != myId:\n",
    "        print(valuesId)\n",
    "        print(myId)\n",
    "        print(\"Ids not matching!!!!\")\n",
    "        return None\n",
    "    if len(valuesLine.strip()) != len(predictionLine.strip()):\n",
    "        print(valuesLine)\n",
    "        print(len(predictionLine))\n",
    "        print(\"Sequence lens not matching!!!!\")\n",
    "        return None\n",
    "        \n",
    "    totalOrdered = 0\n",
    "    correctlyGuessedOrdered = 0\n",
    "    \n",
    "    totalDisordered = 0\n",
    "    correctlyGuessedDisordered = 0\n",
    "\n",
    "    for i in range(len(valuesLine)):\n",
    "        if valuesLine[i] == 'o':\n",
    "            totalOrdered += 1\n",
    "            if predictionLine[i] == 'o':\n",
    "                correctlyGuessedOrdered += 1\n",
    "        else:\n",
    "            totalDisordered += 1\n",
    "            if predictionLine[i] == 'd' or predictionLine[i] == 'i':\n",
    "                correctlyGuessedDisordered += 1\n",
    "    with open(outputFile, \"a\") as out:\n",
    "        guessedOrderedPercentage = '/'\n",
    "        guessedDisorderedPercentage = '/'\n",
    "        if totalOrdered != 0:\n",
    "            guessedOrderedPercentage = (correctlyGuessedOrdered * 100) / totalOrdered\n",
    "        if totalDisordered != 0:\n",
    "            guessedDisorderedPercentage = (correctlyGuessedDisordered * 100) / totalDisordered\n",
    "        \"\"\"\n",
    "        print(guessedOrderedPercentage)\n",
    "        print(guessedDisorderedPercentage)\n",
    "        print(totalOrdered)\n",
    "        print(correctlyGuessedOrdered)\n",
    "        print(totalDisordered)\n",
    "        print(correctlyGuessedDisordered)\n",
    "        \"\"\"\n",
    "        # totalOrd, correctOrd, ordPerc, totalDisor, correctDisord, disordPerc\n",
    "        res = valuesId + \" \" + str(totalOrdered) + \" \" + str(correctlyGuessedOrdered) + \" \" + str(guessedOrderedPercentage) + \" \" + str(totalDisordered) + \" \" + str(correctlyGuessedDisordered) + \" \" + str(guessedDisorderedPercentage)\n",
    "        out.write(res)\n",
    "        out.write(\"\\n\")"
   ]
  },
  {
   "cell_type": "code",
   "execution_count": 3,
   "id": "78369dff-41cc-4efa-affa-eeb7ac92a8ef",
   "metadata": {},
   "outputs": [],
   "source": [
    "def compareResultsForRepeats(trueValues, myResults, outputFile, myResultsFor72 = None):\n",
    "    with open(trueValues, \"r\") as values, open(myResults, \"r\") as myRes, open(myResultsFor72 or os.devnull) as my72:\n",
    "        # TREBA MI PROVERITI DA LI JE 72, AKO JESTE OTVORI ODG FAJL\n",
    "        valuesLine = values.readline()\n",
    "        myLine = myRes.readline() \n",
    "\n",
    "        while valuesLine != '' and myLine != '':\n",
    "            parts = valuesLine.split(' ')\n",
    "            valuesId = parts[0]\n",
    "            valuesSeq = parts[1]\n",
    "\n",
    "            if valuesId == \"DP00072\":\n",
    "                print(\"Jeste 72\")\n",
    "                print(valuesId == \"DP00072\")\n",
    "                my72Line = my72.readline()\n",
    "                parts = my72Line.split(' ')\n",
    "                my72Id = parts[0]\n",
    "                my72Seq = parts[1]\n",
    "                compare(valuesId, valuesSeq, my72Id, my72Seq, outputFile)\n",
    "            else:\n",
    "                parts = myLine.split(' ')\n",
    "                myId = parts[0]\n",
    "                mySeq = parts[1]\n",
    "                compare(valuesId, valuesSeq, myId, mySeq, outputFile)\n",
    "                myLine = myRes.readline()\n",
    "            \n",
    "            valuesLine = values.readline()"
   ]
  },
  {
   "cell_type": "code",
   "execution_count": 4,
   "id": "9b5240ce-8817-4ace-a12c-2dc84bbbfb6e",
   "metadata": {},
   "outputs": [],
   "source": [
    "compareResultsForRepeats(\"../preprocessedFiles/labelTest1.txt\", \"../results/resultRepeats1.txt\", \"../results/finalResultsTest1.txt\")"
   ]
  },
  {
   "cell_type": "code",
   "execution_count": 5,
   "id": "482ada57-e8fb-4655-8799-7eeb52c1e9ce",
   "metadata": {},
   "outputs": [
    {
     "name": "stdout",
     "output_type": "stream",
     "text": [
      "Jeste 72\n",
      "True\n"
     ]
    }
   ],
   "source": [
    "compareResultsForRepeats(\"../preprocessedFiles/labelTest2.txt\", \"../results/resultRepeats2.txt\", \"../results/finalResultsTest2.txt\", \"../results/resultRepeats722.txt\")"
   ]
  },
  {
   "cell_type": "code",
   "execution_count": 6,
   "id": "8862585f-315c-4197-827d-4b40f1a940fb",
   "metadata": {},
   "outputs": [
    {
     "name": "stdout",
     "output_type": "stream",
     "text": [
      "Jeste 72\n",
      "True\n"
     ]
    }
   ],
   "source": [
    "compareResultsForRepeats(\"../preprocessedFiles/labelTest3.txt\", \"../results/resultRepeats3.txt\", \"../results/finalResultsTest3.txt\", \"../results/resultRepeats723.txt\")"
   ]
  },
  {
   "cell_type": "code",
   "execution_count": 7,
   "id": "458fad8e-e7e0-41f9-933c-58e6f6670dcc",
   "metadata": {},
   "outputs": [],
   "source": [
    "compareResultsForRepeats(\"../preprocessedFiles/labelTest4.txt\", \"../results/resultRepeats4.txt\", \"../results/finalResultsTest4.txt\")"
   ]
  },
  {
   "cell_type": "code",
   "execution_count": 8,
   "id": "28af591e-13d8-4ae9-8d90-578fd25828db",
   "metadata": {},
   "outputs": [],
   "source": [
    "compareResultsForRepeats(\"../preprocessedFiles/labelTest5.txt\", \"../results/resultRepeats5.txt\", \"../results/finalResultsTest5.txt\")"
   ]
  },
  {
   "cell_type": "code",
   "execution_count": null,
   "id": "ca30e5f9-c016-4ac9-9d89-d6ad11c16a44",
   "metadata": {},
   "outputs": [],
   "source": []
  },
  {
   "cell_type": "code",
   "execution_count": null,
   "id": "fe14cf3c-3ce1-4d2f-9611-2432eb8b4e98",
   "metadata": {},
   "outputs": [],
   "source": []
  }
 ],
 "metadata": {
  "kernelspec": {
   "display_name": "Python 3 (ipykernel)",
   "language": "python",
   "name": "python3"
  },
  "language_info": {
   "codemirror_mode": {
    "name": "ipython",
    "version": 3
   },
   "file_extension": ".py",
   "mimetype": "text/x-python",
   "name": "python",
   "nbconvert_exporter": "python",
   "pygments_lexer": "ipython3",
   "version": "3.10.12"
  }
 },
 "nbformat": 4,
 "nbformat_minor": 5
}
