{
 "cells": [
  {
   "cell_type": "code",
   "execution_count": 1,
   "id": "15b33be4-db15-451b-9c98-f6c3b65cc4d3",
   "metadata": {},
   "outputs": [],
   "source": [
    "files = ['../repeats/dnaDC.txt', '../repeats/dnaDN.txt', '../repeats/dnaIC.txt', '../repeats/dnaIN.txt']\n",
    "with open('../repeats/allMaxDNARepeats.txt', 'w') as f:\n",
    "    for file in files:\n",
    "        with open(file, 'r') as fin:\n",
    "            lines = fin.readlines()\n",
    "            for line in lines:\n",
    "                if len(line.strip()) == 0:\n",
    "                    continue\n",
    "                f.write(line)"
   ]
  },
  {
   "cell_type": "code",
   "execution_count": null,
   "id": "f1e706f2-69e9-4630-b8ce-a148555f5e1f",
   "metadata": {},
   "outputs": [],
   "source": []
  }
 ],
 "metadata": {
  "kernelspec": {
   "display_name": "Python 3 (ipykernel)",
   "language": "python",
   "name": "python3"
  },
  "language_info": {
   "codemirror_mode": {
    "name": "ipython",
    "version": 3
   },
   "file_extension": ".py",
   "mimetype": "text/x-python",
   "name": "python",
   "nbconvert_exporter": "python",
   "pygments_lexer": "ipython3",
   "version": "3.10.12"
  }
 },
 "nbformat": 4,
 "nbformat_minor": 5
}
