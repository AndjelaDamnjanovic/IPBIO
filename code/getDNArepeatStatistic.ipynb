{
 "cells": [
  {
   "cell_type": "code",
   "execution_count": 41,
   "id": "694ecfd5-e7bd-47e8-8d79-f9e2d720b55e",
   "metadata": {},
   "outputs": [],
   "source": [
    "def writeStatistics(inFile, outFile):\n",
    "    minOrderedPercentage = 100\n",
    "    minDisorderedPercentage = 100\n",
    "    \n",
    "    maxOrderedPercentage = 0\n",
    "    maxDisorderedPercentage = 0\n",
    "    \n",
    "    avgOrderedPercentage = 0\n",
    "    avgDisorderedPercentage = 0\n",
    "    \n",
    "    orderedPercentages = 0\n",
    "    disorderedPercentages = 0\n",
    "    \n",
    "    numInstances = 0\n",
    "    \n",
    "    with open(inFile, \"r\") as inf:\n",
    "        line = inf.readline()\n",
    "        while line != '':\n",
    "            parts = line.split(' ')\n",
    "            \n",
    "            ordPercentage = parts[3]\n",
    "            disordPercentage = parts[6]\n",
    "            if ordPercentage != '/':\n",
    "                ordPercentage = float(ordPercentage)\n",
    "                if ordPercentage < minOrderedPercentage:\n",
    "                    minOrderedPercentage = ordPercentage\n",
    "                elif ordPercentage > maxOrderedPercentage:\n",
    "                    maxOrderedPercentage = ordPercentage\n",
    "                orderedPercentages += ordPercentage\n",
    "            else:\n",
    "                orderedPercentages += 0\n",
    "            if disordPercentage != '/':\n",
    "                disordPercentage = float(disordPercentage)\n",
    "                if disordPercentage < minDisorderedPercentage:\n",
    "                    minDisorderedPercentage = disordPercentage\n",
    "                elif disordPercentage > maxDisorderedPercentage:\n",
    "                    maxDisorderedPercentage = disordPercentage\n",
    "                disorderedPercentages += disordPercentage\n",
    "            else:\n",
    "                disorderedPercentages += 0\n",
    "            numInstances += 1\n",
    "            line = inf.readline()\n",
    "    avgDisorderedPercentage = disorderedPercentages / numInstances\n",
    "    avgOrderedPercentage = orderedPercentages / numInstances\n",
    "    \"\"\"\n",
    "    print(avgDisorderedPercentage)\n",
    "    print(avgOrderedPercentage)\n",
    "    print(numInstances)\n",
    "    \"\"\"\n",
    "    with open(outFile, \"a\") as outf:\n",
    "        outf.write(inFile + \": \" + str(avgOrderedPercentage) + \" \" + str(avgDisorderedPercentage))\n",
    "        outf.write(\"\\n\")"
   ]
  },
  {
   "cell_type": "code",
   "execution_count": 42,
   "id": "39613097-8a90-421d-9d6b-4f80948f1580",
   "metadata": {},
   "outputs": [],
   "source": [
    "writeStatistics(\"../results/finalResultsTestDNA.txt\", \"../statistics/testDNArepeatsStat.txt\")"
   ]
  },
  {
   "cell_type": "code",
   "execution_count": null,
   "id": "bb429d3d-77ef-4fd5-bfac-1215cbb2508d",
   "metadata": {},
   "outputs": [],
   "source": []
  }
 ],
 "metadata": {
  "kernelspec": {
   "display_name": "Python 3 (ipykernel)",
   "language": "python",
   "name": "python3"
  },
  "language_info": {
   "codemirror_mode": {
    "name": "ipython",
    "version": 3
   },
   "file_extension": ".py",
   "mimetype": "text/x-python",
   "name": "python",
   "nbconvert_exporter": "python",
   "pygments_lexer": "ipython3",
   "version": "3.10.12"
  }
 },
 "nbformat": 4,
 "nbformat_minor": 5
}
