{
 "cells": [
  {
   "cell_type": "code",
   "execution_count": 2,
   "id": "e35e3963-c0c8-437f-8402-317e81d92d09",
   "metadata": {},
   "outputs": [],
   "source": [
    "import random"
   ]
  },
  {
   "cell_type": "code",
   "execution_count": 4,
   "id": "d10e34bc-5e13-40a1-9577-a0306c5912a6",
   "metadata": {},
   "outputs": [
    {
     "name": "stdout",
     "output_type": "stream",
     "text": [
      "[9, 12, 1, 14, 8, 13, 4, 11, 16, 3, 2, 18]\n"
     ]
    }
   ],
   "source": [
    "array = [i for i in range(1, 19)]\n",
    "random.seed(5)\n",
    "\n",
    "chosen = random.sample(array, k = 12)\n",
    "print(chosen)"
   ]
  },
  {
   "cell_type": "code",
   "execution_count": 6,
   "id": "4ff8e5d3-9d08-4110-a34a-7c2c76e7f526",
   "metadata": {},
   "outputs": [],
   "source": [
    "ftest = open(\"../testSets/DNAtestSet.fasta\", \"w\")\n",
    "with open(\"../trainSets/DNAtrainSet.fasta\", \"w\") as f:\n",
    "    for i in range(1, 19):\n",
    "        if i in chosen:\n",
    "            filename = '../sequences/sequence{}.fasta'.format(i)\n",
    "            with open (filename, 'r') as inputF:\n",
    "                lines = inputF.readlines()\n",
    "                for line in lines:\n",
    "                    f.write(line)\n",
    "                f.write('\\n')\n",
    "        else:\n",
    "            filename = '../sequences/sequence{}.fasta'.format(i)\n",
    "            with open (filename, 'r') as inputF:\n",
    "                lines = inputF.readlines()\n",
    "                for line in lines:\n",
    "                    ftest.write(line)\n",
    "                ftest.write('\\n')\n",
    "ftest.close()"
   ]
  },
  {
   "cell_type": "code",
   "execution_count": 7,
   "id": "d0d70d2b-28fc-494a-a217-c5f5c5e19f2f",
   "metadata": {},
   "outputs": [],
   "source": [
    "from Bio import SeqIO\n",
    "from Bio.Seq import Seq\n",
    "from Bio.SeqRecord import SeqRecord"
   ]
  },
  {
   "cell_type": "code",
   "execution_count": 8,
   "id": "6a0da688-0506-4045-9a39-5581dafb7583",
   "metadata": {},
   "outputs": [],
   "source": [
    "fasta_sequences = SeqIO.parse(open(\"../trainSets/DNAtrainSet.fasta\"), 'fasta')\n",
    "with open(\"../trainSets/trainSetTrimmed.fasta\", \"w\") as out:\n",
    "    for fasta in fasta_sequences:\n",
    "        name, sequence, description = fasta.id, str(fasta.seq), fasta.description\n",
    "        sequence = sequence[:-3]\n",
    "\n",
    "        sequence = Seq(sequence)\n",
    "        record = SeqRecord(sequence, id=name, description = description)\n",
    "\n",
    "\n",
    "        SeqIO.write(record, out, \"fasta\")"
   ]
  },
  {
   "cell_type": "code",
   "execution_count": 9,
   "id": "e32b11b3-5500-4798-b23a-ccf4fc82626c",
   "metadata": {},
   "outputs": [],
   "source": [
    "fasta_sequences = SeqIO.parse(open(\"../testSets/DNAtestSet.fasta\"), 'fasta')\n",
    "with open(\"../testSets/testSetTrimmed.fasta\", \"w\") as out:\n",
    "    for fasta in fasta_sequences:\n",
    "        name, sequence, description = fasta.id, str(fasta.seq), fasta.description\n",
    "        sequence = sequence[:-3]\n",
    "\n",
    "        sequence = Seq(sequence)\n",
    "        record = SeqRecord(sequence, id=name, description = description)\n",
    "\n",
    "\n",
    "        SeqIO.write(record, out, \"fasta\")"
   ]
  },
  {
   "cell_type": "code",
   "execution_count": null,
   "id": "280fe3c4-b17f-4f0a-9190-35a5a3d32b6d",
   "metadata": {},
   "outputs": [],
   "source": []
  }
 ],
 "metadata": {
  "kernelspec": {
   "display_name": "Python 3 (ipykernel)",
   "language": "python",
   "name": "python3"
  },
  "language_info": {
   "codemirror_mode": {
    "name": "ipython",
    "version": 3
   },
   "file_extension": ".py",
   "mimetype": "text/x-python",
   "name": "python",
   "nbconvert_exporter": "python",
   "pygments_lexer": "ipython3",
   "version": "3.10.12"
  }
 },
 "nbformat": 4,
 "nbformat_minor": 5
}
