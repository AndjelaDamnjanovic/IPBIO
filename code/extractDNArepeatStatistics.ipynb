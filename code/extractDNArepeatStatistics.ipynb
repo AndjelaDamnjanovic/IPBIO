{
 "cells": [
  {
   "cell_type": "code",
   "execution_count": null,
   "id": "4ca5ba3f-83a3-48fa-85e6-e31b93e5df7a",
   "metadata": {},
   "outputs": [],
   "source": [
    "def compare(valuesId, valuesLine, myId, predictionLine, outputFile):\n",
    "    if len(valuesLine.strip()) != len(predictionLine.strip()):\n",
    "        print(len(valuesLine))\n",
    "        print(len(predictionLine))\n",
    "        print(\"Sequence lens not matching!!!!\")\n",
    "        return None\n",
    "        \n",
    "    totalOrdered = 0\n",
    "    correctlyGuessedOrdered = 0\n",
    "    \n",
    "    totalDisordered = 0\n",
    "    correctlyGuessedDisordered = 0\n",
    "\n",
    "    for i in range(len(valuesLine)):\n",
    "        if valuesLine[i] == 'o':\n",
    "            totalOrdered += 1\n",
    "            if predictionLine[i] == 'o':\n",
    "                correctlyGuessedOrdered += 1\n",
    "        else:\n",
    "            totalDisordered += 1\n",
    "            if predictionLine[i] == 'd' or predictionLine[i] == 'i':\n",
    "                correctlyGuessedDisordered += 1\n",
    "    with open(outputFile, \"a\") as out:\n",
    "        guessedOrderedPercentage = '/'\n",
    "        guessedDisorderedPercentage = '/'\n",
    "        if totalOrdered != 0:\n",
    "            guessedOrderedPercentage = (correctlyGuessedOrdered * 100) / totalOrdered\n",
    "        if totalDisordered != 0:\n",
    "            guessedDisorderedPercentage = (correctlyGuessedDisordered * 100) / totalDisordered\n",
    "        \"\"\"\n",
    "        print(guessedOrderedPercentage)\n",
    "        print(guessedDisorderedPercentage)\n",
    "        print(totalOrdered)\n",
    "        print(correctlyGuessedOrdered)\n",
    "        print(totalDisordered)\n",
    "        print(correctlyGuessedDisordered)\n",
    "        \"\"\"\n",
    "        # totalOrd, correctOrd, ordPerc, totalDisor, correctDisord, disordPerc\n",
    "        res = valuesId + \" \" + str(totalOrdered) + \" \" + str(correctlyGuessedOrdered) + \" \" + str(guessedOrderedPercentage) + \" \" + str(totalDisordered) + \" \" + str(correctlyGuessedDisordered) + \" \" + str(guessedDisorderedPercentage)\n",
    "        out.write(res)\n",
    "        out.write(\"\\n\")"
   ]
  },
  {
   "cell_type": "code",
   "execution_count": null,
   "id": "bdbd39ff-9f6c-485b-b1f8-15be2cdea637",
   "metadata": {},
   "outputs": [],
   "source": [
    "def compareResultsForRepeats(trueValues, myResults, outputFile, myResultsFor72 = None):\n",
    "    with open(trueValues, \"r\") as values, open(myResults, \"r\") as myRes, open(myResultsFor72 or os.devnull) as my72:\n",
    "        # TREBA MI PROVERITI DA LI JE 72, AKO JESTE OTVORI ODG FAJL\n",
    "        valuesLine = values.readline()\n",
    "        myLine = myRes.readline() \n",
    "\n",
    "        while valuesLine != '' and myLine != '':\n",
    "            parts = valuesLine.split(' ')\n",
    "            valuesId = parts[0]\n",
    "            valuesSeq = parts[1]\n",
    "\n",
    "            if valuesId == \"DP00072\":\n",
    "                print(\"Jeste 72\")\n",
    "                print(valuesId == \"DP00072\")\n",
    "                my72Line = my72.readline()\n",
    "                parts = my72Line.split(' ')\n",
    "                my72Id = parts[0]\n",
    "                my72Seq = parts[1]\n",
    "                compare(valuesId, valuesSeq, my72Id, my72Seq, outputFile)\n",
    "            else:\n",
    "                parts = myLine.split(' ')\n",
    "                myId = parts[0]\n",
    "                mySeq = parts[1]\n",
    "                compare(valuesId, valuesSeq, myId, mySeq, outputFile)\n",
    "                myLine = myRes.readline()\n",
    "            \n",
    "            valuesLine = values.readline()"
   ]
  },
  {
   "cell_type": "code",
   "execution_count": null,
   "id": "d3a1e1b7-44a9-44dc-87b5-b5b2233fb2e3",
   "metadata": {},
   "outputs": [],
   "source": [
    "compareResultsForRepeats(\"../preprocessedFiles/labelTestDNA.txt\", \"../results/resultDNARepeats.txt\", \"../results/finalResultsTestDNA.txt\")"
   ]
  }
 ],
 "metadata": {
  "kernelspec": {
   "display_name": "Python 3 (ipykernel)",
   "language": "python",
   "name": "python3"
  },
  "language_info": {
   "codemirror_mode": {
    "name": "ipython",
    "version": 3
   },
   "file_extension": ".py",
   "mimetype": "text/x-python",
   "name": "python",
   "nbconvert_exporter": "python",
   "pygments_lexer": "ipython3",
   "version": "3.10.12"
  }
 },
 "nbformat": 4,
 "nbformat_minor": 5
}
