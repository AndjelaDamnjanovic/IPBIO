{
 "cells": [
  {
   "cell_type": "code",
   "execution_count": 1,
   "id": "15e476a9-0ed5-4a72-a08a-777ecdda0dc6",
   "metadata": {},
   "outputs": [],
   "source": [
    "import json"
   ]
  },
  {
   "cell_type": "code",
   "execution_count": 2,
   "id": "19341661-46ef-4212-a5e1-793450204a08",
   "metadata": {},
   "outputs": [],
   "source": [
    "def isDisorder(start, length, starts, ends):\n",
    "    end = start + length\n",
    "    for i in range(len(starts)):\n",
    "        if start >= starts[i] and end <= ends[i]:\n",
    "            return True\n",
    "    return False"
   ]
  },
  {
   "cell_type": "code",
   "execution_count": 3,
   "id": "c167b8cc-fe3e-45d8-b43e-4fa9dc68fc63",
   "metadata": {},
   "outputs": [
    {
     "data": {
      "text/plain": [
       "False"
      ]
     },
     "execution_count": 3,
     "metadata": {},
     "output_type": "execute_result"
    }
   ],
   "source": [
    "isDisorder(8, 3, [134], [170])"
   ]
  },
  {
   "cell_type": "code",
   "execution_count": 4,
   "id": "b1958282-667b-463d-ab8e-1b2df9e50bf5",
   "metadata": {},
   "outputs": [],
   "source": [
    "def intersects(start, length, starts, ends):\n",
    "    end = start + length\n",
    "    for i in range(len(starts)):\n",
    "        ranges = range(starts[i], ends[i] + 1)\n",
    "        if (start in ranges or end in ranges):\n",
    "            return True\n",
    "    return False"
   ]
  },
  {
   "cell_type": "code",
   "execution_count": 8,
   "id": "d79da607-5c14-48ae-bed1-c9867b584bb0",
   "metadata": {},
   "outputs": [],
   "source": [
    "from Bio import SeqIO\n",
    "import numpy as np\n",
    "\n",
    "def extractSequences(filename, outfile, data):\n",
    "    fasta_sequences = SeqIO.parse(open(filename),'fasta')\n",
    "\n",
    "    f = open(data)\n",
    "    podaci = json.load(f)\n",
    "    f.close()\n",
    "\n",
    "    j = 0\n",
    "    sequenceMap = {}\n",
    "    \n",
    "    for fasta in fasta_sequences:\n",
    "        if j >= 10:\n",
    "            break\n",
    "        name, sequence = fasta.id, str(fasta.seq)\n",
    "        \n",
    "        ends = []\n",
    "        starts = []\n",
    "        regions = podaci[j]['disprot_consensus']['Structural state']\n",
    "        j += 1 \n",
    "\n",
    "        for region in regions:\n",
    "            if region[\"type\"] == \"D\":\n",
    "                starts.append(region[\"start\"])\n",
    "                ends.append(region[\"end\"])\n",
    "\n",
    "        seq_len = len(fasta)\n",
    "        print(name)\n",
    "        for n in range(3, seq_len + 1):\n",
    "            for i in range(seq_len - n + 1):\n",
    "                if sequence[i:i+n] not in sequenceMap:\n",
    "                    sequenceMap[sequence[i:i+n]] = np.array([0, 0, 0])\n",
    "                if isDisorder(i, n, starts, ends):\n",
    "                    sequenceMap[sequence[i:i+n]][0] += 1\n",
    "                elif intersects(i, n, starts, ends):\n",
    "                    sequenceMap[sequence[i:i+n]][1] += 1\n",
    "                else:\n",
    "                    sequenceMap[sequence[i:i+n]][2] += 1\n",
    "    \n",
    "    with open(outfile, 'w') as f:  \n",
    "        for key, value in sequenceMap.items():  \n",
    "            f.write('%s:%s\\n' % (key, value))"
   ]
  },
  {
   "cell_type": "code",
   "execution_count": 9,
   "id": "bd180e5b-b461-44cc-b74c-e0a0c3b0fc09",
   "metadata": {},
   "outputs": [],
   "source": [
    "def writeSequencesToFile(inFiles, outFiles, data):\n",
    "    for i in range(len(inFiles)):\n",
    "        extractSequences(inFiles[i], outFiles[i], data[i])"
   ]
  },
  {
   "cell_type": "code",
   "execution_count": 10,
   "id": "800eb331-2940-47be-8f5d-76437edcaf61",
   "metadata": {},
   "outputs": [
    {
     "name": "stdout",
     "output_type": "stream",
     "text": [
      "DP00013\n",
      "DP00016\n",
      "DP00017\n",
      "DP00018\n",
      "DP00030\n",
      "DP00033\n"
     ]
    },
    {
     "ename": "KeyboardInterrupt",
     "evalue": "",
     "output_type": "error",
     "traceback": [
      "\u001b[0;31m---------------------------------------------------------------------------\u001b[0m",
      "\u001b[0;31mKeyboardInterrupt\u001b[0m                         Traceback (most recent call last)",
      "Cell \u001b[0;32mIn[10], line 4\u001b[0m\n\u001b[1;32m      2\u001b[0m inFiles \u001b[38;5;241m=\u001b[39m [\u001b[38;5;124m\"\u001b[39m\u001b[38;5;124m../preprocessedFiles/preprocessed1.fasta\u001b[39m\u001b[38;5;124m\"\u001b[39m, \u001b[38;5;124m\"\u001b[39m\u001b[38;5;124m../preprocessedFiles/preprocessed2.fasta\u001b[39m\u001b[38;5;124m\"\u001b[39m, \u001b[38;5;124m\"\u001b[39m\u001b[38;5;124m../preprocessedFiles/preprocessed3.fasta\u001b[39m\u001b[38;5;124m\"\u001b[39m, \u001b[38;5;124m\"\u001b[39m\u001b[38;5;124m../preprocessedFiles/preprocessed4.fasta\u001b[39m\u001b[38;5;124m\"\u001b[39m, \u001b[38;5;124m\"\u001b[39m\u001b[38;5;124m../preprocessedFiles/preprocessed5.fasta\u001b[39m\u001b[38;5;124m\"\u001b[39m]\n\u001b[1;32m      3\u001b[0m data \u001b[38;5;241m=\u001b[39m [\u001b[38;5;124m\"\u001b[39m\u001b[38;5;124m../trainSets/trainSet1.json\u001b[39m\u001b[38;5;124m\"\u001b[39m, \u001b[38;5;124m\"\u001b[39m\u001b[38;5;124m../trainSets/trainSet2.json\u001b[39m\u001b[38;5;124m\"\u001b[39m, \u001b[38;5;124m\"\u001b[39m\u001b[38;5;124m../trainSets/trainSet3.json\u001b[39m\u001b[38;5;124m\"\u001b[39m, \u001b[38;5;124m\"\u001b[39m\u001b[38;5;124m../trainSets/trainSet4.json\u001b[39m\u001b[38;5;124m\"\u001b[39m, \u001b[38;5;124m\"\u001b[39m\u001b[38;5;124m../trainSets/trainSet5.json\u001b[39m\u001b[38;5;124m\"\u001b[39m]\n\u001b[0;32m----> 4\u001b[0m \u001b[43mwriteSequencesToFile\u001b[49m\u001b[43m(\u001b[49m\u001b[43minFiles\u001b[49m\u001b[43m,\u001b[49m\u001b[43m \u001b[49m\u001b[43moutFiles\u001b[49m\u001b[43m,\u001b[49m\u001b[43m \u001b[49m\u001b[43mdata\u001b[49m\u001b[43m)\u001b[49m\n",
      "Cell \u001b[0;32mIn[9], line 3\u001b[0m, in \u001b[0;36mwriteSequencesToFile\u001b[0;34m(inFiles, outFiles, data)\u001b[0m\n\u001b[1;32m      1\u001b[0m \u001b[38;5;28;01mdef\u001b[39;00m \u001b[38;5;21mwriteSequencesToFile\u001b[39m(inFiles, outFiles, data):\n\u001b[1;32m      2\u001b[0m     \u001b[38;5;28;01mfor\u001b[39;00m i \u001b[38;5;129;01min\u001b[39;00m \u001b[38;5;28mrange\u001b[39m(\u001b[38;5;28mlen\u001b[39m(inFiles)):\n\u001b[0;32m----> 3\u001b[0m         \u001b[43mextractSequences\u001b[49m\u001b[43m(\u001b[49m\u001b[43minFiles\u001b[49m\u001b[43m[\u001b[49m\u001b[43mi\u001b[49m\u001b[43m]\u001b[49m\u001b[43m,\u001b[49m\u001b[43m \u001b[49m\u001b[43moutFiles\u001b[49m\u001b[43m[\u001b[49m\u001b[43mi\u001b[49m\u001b[43m]\u001b[49m\u001b[43m,\u001b[49m\u001b[43m \u001b[49m\u001b[43mdata\u001b[49m\u001b[43m[\u001b[49m\u001b[43mi\u001b[49m\u001b[43m]\u001b[49m\u001b[43m)\u001b[49m\n",
      "Cell \u001b[0;32mIn[8], line 34\u001b[0m, in \u001b[0;36mextractSequences\u001b[0;34m(filename, outfile, data)\u001b[0m\n\u001b[1;32m     32\u001b[0m \u001b[38;5;28;01mfor\u001b[39;00m i \u001b[38;5;129;01min\u001b[39;00m \u001b[38;5;28mrange\u001b[39m(seq_len \u001b[38;5;241m-\u001b[39m n \u001b[38;5;241m+\u001b[39m \u001b[38;5;241m1\u001b[39m):\n\u001b[1;32m     33\u001b[0m     \u001b[38;5;28;01mif\u001b[39;00m sequence[i:i\u001b[38;5;241m+\u001b[39mn] \u001b[38;5;129;01mnot\u001b[39;00m \u001b[38;5;129;01min\u001b[39;00m sequenceMap:\n\u001b[0;32m---> 34\u001b[0m         sequenceMap[sequence[i:i\u001b[38;5;241m+\u001b[39mn]] \u001b[38;5;241m=\u001b[39m \u001b[43mnp\u001b[49m\u001b[38;5;241;43m.\u001b[39;49m\u001b[43marray\u001b[49m\u001b[43m(\u001b[49m\u001b[43m[\u001b[49m\u001b[38;5;241;43m0\u001b[39;49m\u001b[43m,\u001b[49m\u001b[43m \u001b[49m\u001b[38;5;241;43m0\u001b[39;49m\u001b[43m,\u001b[49m\u001b[43m \u001b[49m\u001b[38;5;241;43m0\u001b[39;49m\u001b[43m]\u001b[49m\u001b[43m)\u001b[49m\n\u001b[1;32m     35\u001b[0m     \u001b[38;5;28;01mif\u001b[39;00m isDisorder(i, n, starts, ends):\n\u001b[1;32m     36\u001b[0m         sequenceMap[sequence[i:i\u001b[38;5;241m+\u001b[39mn]][\u001b[38;5;241m0\u001b[39m] \u001b[38;5;241m+\u001b[39m\u001b[38;5;241m=\u001b[39m \u001b[38;5;241m1\u001b[39m\n",
      "\u001b[0;31mKeyboardInterrupt\u001b[0m: "
     ]
    }
   ],
   "source": [
    "outFiles = [\"../sequences/sequences1.txt\", \"../sequences/sequences2.txt\", \"../sequences/sequences3.txt\", \"../sequences/sequences4.txt\", \"../sequences/sequences5.txt\"]\n",
    "inFiles = [\"../preprocessedFiles/preprocessed1.fasta\", \"../preprocessedFiles/preprocessed2.fasta\", \"../preprocessedFiles/preprocessed3.fasta\", \"../preprocessedFiles/preprocessed4.fasta\", \"../preprocessedFiles/preprocessed5.fasta\"]\n",
    "data = [\"../trainSets/trainSet1.json\", \"../trainSets/trainSet2.json\", \"../trainSets/trainSet3.json\", \"../trainSets/trainSet4.json\", \"../trainSets/trainSet5.json\"]\n",
    "writeSequencesToFile(inFiles, outFiles, data)"
   ]
  },
  {
   "cell_type": "code",
   "execution_count": null,
   "id": "0c2438a1-8e2a-4260-a774-f37508458833",
   "metadata": {},
   "outputs": [],
   "source": []
  }
 ],
 "metadata": {
  "kernelspec": {
   "display_name": "Python 3 (ipykernel)",
   "language": "python",
   "name": "python3"
  },
  "language_info": {
   "codemirror_mode": {
    "name": "ipython",
    "version": 3
   },
   "file_extension": ".py",
   "mimetype": "text/x-python",
   "name": "python",
   "nbconvert_exporter": "python",
   "pygments_lexer": "ipython3",
   "version": "3.10.12"
  }
 },
 "nbformat": 4,
 "nbformat_minor": 5
}
