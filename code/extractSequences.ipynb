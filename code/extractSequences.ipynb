{
 "cells": [
  {
   "cell_type": "code",
   "execution_count": 1,
   "id": "15e476a9-0ed5-4a72-a08a-777ecdda0dc6",
   "metadata": {},
   "outputs": [],
   "source": [
    "def intersects(start, length, starts, ends):\n",
    "    end = start + length\n",
    "    for i in range(len(starts)):\n",
    "        ranges = range(starts[i], ends[i] + 1)\n",
    "        if (start in ranges or end in ranges):\n",
    "            return True\n",
    "    return False"
   ]
  },
  {
   "cell_type": "code",
   "execution_count": 2,
   "id": "19341661-46ef-4212-a5e1-793450204a08",
   "metadata": {},
   "outputs": [],
   "source": [
    "def isDisorder(start, length, starts, ends):\n",
    "    end = start + length\n",
    "    for i in range(len(starts)):\n",
    "        if start >= starts[i] and end <= ends[i]:\n",
    "            return True\n",
    "    return False"
   ]
  },
  {
   "cell_type": "code",
   "execution_count": 3,
   "id": "945c65d6-14ad-4f83-8d95-17c53ace6d8f",
   "metadata": {},
   "outputs": [],
   "source": [
    "from typing import List\n",
    "\n",
    "def update_rolling_hash(current_hash: int, old_char: str, new_char: str, window_size: int, base: int = 31, mod: int = 10**9 + 9) -> int:\n",
    "\n",
    "    current_hash = (current_hash - ord(old_char) * pow(base, window_size - 1, mod)) % mod\n",
    "    current_hash = (current_hash * base + ord(new_char)) % mod\n",
    "    \n",
    "    return current_hash if current_hash >= 0 else current_hash + mod"
   ]
  },
  {
   "cell_type": "code",
   "execution_count": 4,
   "id": "c167b8cc-fe3e-45d8-b43e-4fa9dc68fc63",
   "metadata": {},
   "outputs": [],
   "source": [
    "def calculate_initial_hash(s: str, window_size: int, base: int = 31, mod: int = 10**9 + 9) -> int:\n",
    "    current_hash = 0\n",
    "    for i in range(window_size):\n",
    "        current_hash = (current_hash * base + ord(s[i])) % mod\n",
    "    return current_hash"
   ]
  },
  {
   "cell_type": "code",
   "execution_count": 5,
   "id": "b1958282-667b-463d-ab8e-1b2df9e50bf5",
   "metadata": {},
   "outputs": [],
   "source": [
    "def intersects(start, length, starts, ends):\n",
    "    end = start + length\n",
    "    for i in range(len(starts)):\n",
    "        ranges = range(starts[i], ends[i] + 1)\n",
    "        if (start in ranges or end in ranges):\n",
    "            return True\n",
    "    return False"
   ]
  },
  {
   "cell_type": "code",
   "execution_count": 5,
   "id": "bcb31b08-077e-4497-9041-5f4c176c7cf9",
   "metadata": {},
   "outputs": [],
   "source": [
    "from Bio import SeqIO\n",
    "import numpy as np\n",
    "import json\n",
    "\n",
    "def extractSequences(filename, outfile, data):\n",
    "    fasta_sequences = SeqIO.parse(open(filename), 'fasta')\n",
    "\n",
    "    with open(data) as f:\n",
    "        podaci = json.load(f)\n",
    "\n",
    "    j = 0\n",
    "    sequenceMap = {}\n",
    "    with open(outfile, \"w\") as out:\n",
    "        for fasta in fasta_sequences:\n",
    "            name, sequence = fasta.id, str(fasta.seq)\n",
    "            regions = podaci[j]['disprot_consensus']['Structural state']\n",
    "            j += 1 \n",
    "            if name == \"DP00072\":\n",
    "                continue\n",
    "\n",
    "            starts, ends = [], []\n",
    "            for region in regions:\n",
    "                if region[\"type\"] == \"D\":\n",
    "                    starts.append(region[\"start\"])\n",
    "                    ends.append(region[\"end\"])\n",
    "\n",
    "            seq_len = len(sequence)\n",
    "            print(name)\n",
    "            for n in range(3, seq_len + 1):\n",
    "                # Compute the initial hash for the first window of size n\n",
    "                if seq_len >= n:\n",
    "                    current_hash = calculate_initial_hash(sequence[:n], n)\n",
    "                    if current_hash not in sequenceMap:\n",
    "                        sequenceMap[current_hash] = np.array([0, 0, 0])\n",
    "\n",
    "                    if isDisorder(0, n, starts, ends):\n",
    "                        sequenceMap[current_hash][0] += 1\n",
    "                    elif intersects(0, n, starts, ends):\n",
    "                        sequenceMap[current_hash][1] += 1\n",
    "                    else:\n",
    "                        sequenceMap[current_hash][2] += 1\n",
    "\n",
    "                    # Sliding window with rolling hash\n",
    "                    for i in range(1, seq_len - n + 1):\n",
    "                        current_hash = update_rolling_hash(current_hash, sequence[i - 1], sequence[i + n - 1], n)\n",
    "                        if current_hash not in sequenceMap:\n",
    "                            sequenceMap[current_hash] = np.array([0, 0, 0])\n",
    "                        \n",
    "                        if isDisorder(i, n, starts, ends):\n",
    "                            sequenceMap[current_hash][0] += 1\n",
    "                        elif intersects(i, n, starts, ends):\n",
    "                            sequenceMap[current_hash][1] += 1\n",
    "                        else:\n",
    "                            sequenceMap[current_hash][2] += 1\n",
    "\n",
    "                    if len(sequenceMap) >= 20000:\n",
    "                        for key, value in sequenceMap.items():  \n",
    "                            out.write(f'{key}:{value}\\n')\n",
    "                        sequenceMap.clear()\n",
    "\n",
    "            starts.clear()\n",
    "            ends.clear()\n",
    "        \n",
    "        for key, value in sequenceMap.items():  \n",
    "            out.write(f'{key}:{value}\\n')"
   ]
  },
  {
   "cell_type": "code",
   "execution_count": 6,
   "id": "bd180e5b-b461-44cc-b74c-e0a0c3b0fc09",
   "metadata": {},
   "outputs": [],
   "source": [
    "def writeSequencesToFile(inFiles, outFiles, data):\n",
    "    for i in range(len(inFiles)):\n",
    "        extractSequences(inFiles[i], outFiles[i], data[i])"
   ]
  },
  {
   "cell_type": "code",
   "execution_count": 10,
   "id": "800eb331-2940-47be-8f5d-76437edcaf61",
   "metadata": {},
   "outputs": [
    {
     "name": "stdout",
     "output_type": "stream",
     "text": [
      "DP03718\n",
      "999969226\n",
      "999974992\n",
      "999969412\n",
      "999224451\n",
      "999051471\n",
      "970595300\n"
     ]
    }
   ],
   "source": [
    "outFiles = [\"../sequences/sequences1proba.txt\", \"../sequences/sequences2proba.txt\", \"../sequences/sequences3proba.txt\", \"../sequences/sequences4proba.txt\", \"../sequences/sequences5proba.txt\"]\n",
    "inFiles = [\"../preprocessedFiles/preprocessed1.fasta\", \"../preprocessedFiles/preprocessed2.fasta\", \"../preprocessedFiles/preprocessed3.fasta\", \"../preprocessedFiles/preprocessed4.fasta\", \"../preprocessedFiles/preprocessed5.fasta\"]\n",
    "data = [\"../trainSets/trainSet1.json\", \"../trainSets/trainSet2.json\", \"../trainSets/trainSet3.json\", \"../trainSets/trainSet4.json\", \"../trainSets/trainSet5.json\"]\n",
    "writeSequencesToFile(inFiles, outFiles, data)"
   ]
  },
  {
   "cell_type": "code",
   "execution_count": 7,
   "id": "2b94848a-fe64-47c9-9365-7112eae9f82c",
   "metadata": {},
   "outputs": [],
   "source": [
    "def extractSequences(filename, outfile, data):\n",
    "    fasta_sequences = SeqIO.parse(open(filename), 'fasta')\n",
    "\n",
    "    with open(data) as f:\n",
    "        podaci = json.load(f)\n",
    "\n",
    "    j = 0\n",
    "    sequenceMap = {}\n",
    "    with open(outfile, \"w\") as out:\n",
    "        for fasta in fasta_sequences:\n",
    "            name, sequence = fasta.id, str(fasta.seq)\n",
    "            regions = podaci[j]['disprot_consensus']['Structural state']\n",
    "            j += 1 \n",
    "            if name != \"DP00072\":\n",
    "                continue\n",
    "\n",
    "            starts, ends = [], []\n",
    "            for region in regions:\n",
    "                if region[\"type\"] == \"D\":\n",
    "                    starts.append(region[\"start\"])\n",
    "                    ends.append(region[\"end\"])\n",
    "\n",
    "            seq_len = len(sequence)\n",
    "            print(name)\n",
    "            for n in range(3, seq_len + 1):\n",
    "                # Compute the initial hash for the first window of size n\n",
    "                if seq_len >= n:\n",
    "                    current_hash = calculate_initial_hash(sequence[:n], n)\n",
    "                    if current_hash not in sequenceMap:\n",
    "                        sequenceMap[current_hash] = np.array([0, 0, 0])\n",
    "\n",
    "                    if isDisorder(0, n, starts, ends):\n",
    "                        sequenceMap[current_hash][0] += 1\n",
    "                    elif intersects(0, n, starts, ends):\n",
    "                        sequenceMap[current_hash][1] += 1\n",
    "                    else:\n",
    "                        sequenceMap[current_hash][2] += 1\n",
    "\n",
    "                    # Sliding window with rolling hash\n",
    "                    for i in range(1, seq_len - n + 1):\n",
    "                        current_hash = update_rolling_hash(current_hash, sequence[i - 1], sequence[i + n - 1], n)\n",
    "                        if current_hash not in sequenceMap:\n",
    "                            sequenceMap[current_hash] = np.array([0, 0, 0])\n",
    "                        \n",
    "                        if isDisorder(i, n, starts, ends):\n",
    "                            sequenceMap[current_hash][0] += 1\n",
    "                        elif intersects(i, n, starts, ends):\n",
    "                            sequenceMap[current_hash][1] += 1\n",
    "                        else:\n",
    "                            sequenceMap[current_hash][2] += 1\n",
    "\n",
    "                    if len(sequenceMap) >= 20000:\n",
    "                        for key, value in sequenceMap.items():  \n",
    "                            out.write(f'{key}:{value}\\n')\n",
    "                        sequenceMap.clear()\n",
    "\n",
    "            starts.clear()\n",
    "            ends.clear()\n",
    "        \n",
    "        for key, value in sequenceMap.items():  \n",
    "            out.write(f'{key}:{value}\\n')"
   ]
  },
  {
   "cell_type": "code",
   "execution_count": null,
   "id": "74eee5a1-b02a-4305-92f6-996ac5edbf6f",
   "metadata": {},
   "outputs": [],
   "source": [
    "outFiles = [\"../sequences/72proba.txt\"]\n",
    "inFiles = [\"../preprocessedFiles/preprocessed1.fasta\"]\n",
    "data = [\"../trainSets/trainSet1.json\"]\n",
    "writeSequencesToFile(inFiles, outFiles, dat"
   ]
  }
 ],
 "metadata": {
  "kernelspec": {
   "display_name": "Python 3 (ipykernel)",
   "language": "python",
   "name": "python3"
  },
  "language_info": {
   "codemirror_mode": {
    "name": "ipython",
    "version": 3
   },
   "file_extension": ".py",
   "mimetype": "text/x-python",
   "name": "python",
   "nbconvert_exporter": "python",
   "pygments_lexer": "ipython3",
   "version": "3.10.12"
  }
 },
 "nbformat": 4,
 "nbformat_minor": 5
}
