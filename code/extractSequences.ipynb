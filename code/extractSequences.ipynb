{
 "cells": [
  {
   "cell_type": "code",
   "execution_count": 1,
   "id": "15e476a9-0ed5-4a72-a08a-777ecdda0dc6",
   "metadata": {},
   "outputs": [],
   "source": [
    "import json"
   ]
  },
  {
   "cell_type": "code",
   "execution_count": 2,
   "id": "19341661-46ef-4212-a5e1-793450204a08",
   "metadata": {},
   "outputs": [],
   "source": [
    "def isDisorder(start, length, starts, ends):\n",
    "    end = start + length\n",
    "    for i in range(len(starts)):\n",
    "        if start >= starts[i] and end <= ends[i]:\n",
    "            return True\n",
    "    return False"
   ]
  },
  {
   "cell_type": "code",
   "execution_count": 3,
   "id": "c167b8cc-fe3e-45d8-b43e-4fa9dc68fc63",
   "metadata": {},
   "outputs": [
    {
     "data": {
      "text/plain": [
       "False"
      ]
     },
     "execution_count": 3,
     "metadata": {},
     "output_type": "execute_result"
    }
   ],
   "source": [
    "isDisorder(8, 3, [134], [170])"
   ]
  },
  {
   "cell_type": "code",
   "execution_count": 4,
   "id": "b1958282-667b-463d-ab8e-1b2df9e50bf5",
   "metadata": {},
   "outputs": [],
   "source": [
    "def intersects(start, length, starts, ends):\n",
    "    end = start + length\n",
    "    for i in range(len(starts)):\n",
    "        ranges = range(starts[i], ends[i] + 1)\n",
    "        if (start in ranges or end in ranges):\n",
    "            return True\n",
    "    return False"
   ]
  },
  {
   "cell_type": "code",
   "execution_count": 5,
   "id": "d79da607-5c14-48ae-bed1-c9867b584bb0",
   "metadata": {},
   "outputs": [],
   "source": [
    "from Bio import SeqIO\n",
    "import numpy as np\n",
    "\n",
    "def extractSequences(filename, outfile, data):\n",
    "    fasta_sequences = SeqIO.parse(open(filename),'fasta')\n",
    "\n",
    "    f = open(data)\n",
    "    podaci = json.load(f)\n",
    "    f.close()\n",
    "\n",
    "    j = 0\n",
    "    sequenceMap = {}\n",
    "    \n",
    "    for fasta in fasta_sequences:\n",
    "        name, sequence = fasta.id, str(fasta.seq)\n",
    "        \n",
    "        ends = []\n",
    "        starts = []\n",
    "        regions = podaci[j]['disprot_consensus']['Structural state']\n",
    "        j += 1 \n",
    "\n",
    "        for region in regions:\n",
    "            if region[\"type\"] == \"D\":\n",
    "                starts.append(region[\"start\"])\n",
    "                ends.append(region[\"end\"])\n",
    "\n",
    "        seq_len = len(fasta)\n",
    "        print(name)\n",
    "        for n in range(3, seq_len + 1):\n",
    "            for i in range(seq_len - n + 1):\n",
    "                if sequence[i:i+n] not in sequenceMap:\n",
    "                    sequenceMap[sequence[i:i+n]] = np.array([0, 0, 0])\n",
    "                if isDisorder(i, n, starts, ends):\n",
    "                    sequenceMap[sequence[i:i+n]][0] += 1\n",
    "                elif intersects(i, n, starts, ends):\n",
    "                    sequenceMap[sequence[i:i+n]][1] += 1\n",
    "                else:\n",
    "                    sequenceMap[sequence[i:i+n]][2] += 1\n",
    "    \n",
    "    with open(outfile, 'w') as f:  \n",
    "        for key, value in sequenceMap.items():  \n",
    "            f.write('%s:%s\\n' % (key, value))"
   ]
  },
  {
   "cell_type": "code",
   "execution_count": 6,
   "id": "bd180e5b-b461-44cc-b74c-e0a0c3b0fc09",
   "metadata": {},
   "outputs": [],
   "source": [
    "def writeSequencesToFile(inFiles, outFiles, data):\n",
    "    for i in range(len(inFiles)):\n",
    "        extractSequences(inFiles[i], outFiles[i], data[i])"
   ]
  },
  {
   "cell_type": "code",
   "execution_count": null,
   "id": "800eb331-2940-47be-8f5d-76437edcaf61",
   "metadata": {},
   "outputs": [
    {
     "name": "stdout",
     "output_type": "stream",
     "text": [
      "DP00013\n",
      "DP00016\n",
      "DP00017\n",
      "DP00018\n",
      "DP00030\n",
      "DP00033\n",
      "DP00040\n",
      "DP00054\n",
      "DP00069\n",
      "DP00070\n",
      "DP00072\n"
     ]
    }
   ],
   "source": [
    "outFiles = [\"../sequences/sequences1.txt\", \"../sequences/sequences2.txt\", \"../sequences/sequences3.txt\", \"../sequences/sequences4.txt\", \"../sequences/sequences5.txt\"]\n",
    "inFiles = [\"../preprocessedFiles/preprocessed1.fasta\", \"../preprocessedFiles/preprocessed2.fasta\", \"../preprocessedFiles/preprocessed3.fasta\", \"../preprocessedFiles/preprocessed4.fasta\", \"../preprocessedFiles/preprocessed5.fasta\"]\n",
    "data = [\"../trainSets/trainSet1.json\", \"../trainSets/trainSet2.json\", \"../trainSets/trainSet3.json\", \"../trainSets/trainSet4.json\", \"../trainSets/trainSet5.json\"]\n",
    "writeSequencesToFile(inFiles, outFiles, data)"
   ]
  },
  {
   "cell_type": "code",
   "execution_count": null,
   "id": "0c2438a1-8e2a-4260-a774-f37508458833",
   "metadata": {},
   "outputs": [],
   "source": []
  }
 ],
 "metadata": {
  "kernelspec": {
   "display_name": "Python 3 (ipykernel)",
   "language": "python",
   "name": "python3"
  },
  "language_info": {
   "codemirror_mode": {
    "name": "ipython",
    "version": 3
   },
   "file_extension": ".py",
   "mimetype": "text/x-python",
   "name": "python",
   "nbconvert_exporter": "python",
   "pygments_lexer": "ipython3",
   "version": "3.10.12"
  }
 },
 "nbformat": 4,
 "nbformat_minor": 5
}
