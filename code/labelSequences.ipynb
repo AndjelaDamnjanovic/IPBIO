{
 "cells": [
  {
   "cell_type": "code",
   "execution_count": 18,
   "id": "ca53cea0-d5ca-4eb9-b307-b7edc61d244f",
   "metadata": {},
   "outputs": [
    {
     "name": "stdout",
     "output_type": "stream",
     "text": [
      "791\n",
      "791\n",
      "791\n"
     ]
    }
   ],
   "source": [
    "import numpy as np\n",
    "import json\n",
    "\n",
    "def transform(sequence, start, end):\n",
    "    for i in range(start, end):\n",
    "        sequence[i] = 'd'\n",
    "        \n",
    "def labelSequences(outFile, testFile):\n",
    "    with open(outFile, \"r\") as f:\n",
    "        podaci = json.load(f)\n",
    "        n = len(podaci)\n",
    "\n",
    "        sequences = []\n",
    "        labels = []\n",
    "        ids = []\n",
    "    \n",
    "        for i in range(n):\n",
    "            sequence = podaci[i]['sequence']\n",
    "            #print(podaci[i]['disprot_id'])\n",
    "            seq_len = len(sequence)\n",
    "\n",
    "            labels.append(['o']* seq_len)\n",
    "            regions = podaci[i]['disprot_consensus']['Structural state']\n",
    "            for region in regions:\n",
    "                if region[\"type\"] == \"D\":\n",
    "                    start = region[\"start\"]\n",
    "                    #print(start)\n",
    "                    end = region[\"end\"]\n",
    "                    #print(end)\n",
    "                    transform(labels[i], start - 1, end)\n",
    "            sequences.append(sequence)\n",
    "            ids.append(podaci[i]['disprot_id'])\n",
    "    with open(testFile, \"w\") as f:\n",
    "        for i in range(len(sequences)):\n",
    "            f.write(ids[i] + \" \")\n",
    "            f.writelines(''.join(labels[i]))\n",
    "            f.write(\"\\n\")  \n",
    "print(len(sequences))\n",
    "print(len(labels))\n",
    "print(len(ids))"
   ]
  },
  {
   "cell_type": "code",
   "execution_count": 19,
   "id": "10b41caa-dc02-4ec9-9c57-820bad90ebca",
   "metadata": {},
   "outputs": [],
   "source": [
    "labelSequences(\"../testSets/testSet1.json\", \"../preprocessedFiles/labelTest1.txt\")"
   ]
  },
  {
   "cell_type": "code",
   "execution_count": 20,
   "id": "fff0f5b0-bfa2-4fd9-ab8c-f4881cada8aa",
   "metadata": {},
   "outputs": [],
   "source": [
    "labelSequences(\"../testSets/testSet2.json\", \"../preprocessedFiles/labelTest2.txt\")"
   ]
  },
  {
   "cell_type": "code",
   "execution_count": 21,
   "id": "488dc6df-d5b7-4a84-b2d4-1ea7bb5f9024",
   "metadata": {},
   "outputs": [],
   "source": [
    "labelSequences(\"../testSets/testSet3.json\", \"../preprocessedFiles/labelTest3.txt\")"
   ]
  },
  {
   "cell_type": "code",
   "execution_count": 22,
   "id": "675cacd3-2a98-401a-99a0-11da64be77af",
   "metadata": {},
   "outputs": [],
   "source": [
    "labelSequences(\"../testSets/testSet4.json\", \"../preprocessedFiles/labelTest4.txt\")"
   ]
  },
  {
   "cell_type": "code",
   "execution_count": 23,
   "id": "c40faadc-85a3-49b3-b65a-93a51dd207c8",
   "metadata": {},
   "outputs": [],
   "source": [
    "labelSequences(\"../testSets/testSet5.json\", \"../preprocessedFiles/labelTest5.txt\")"
   ]
  },
  {
   "cell_type": "code",
   "execution_count": null,
   "id": "cf94e28b-e454-467b-8116-7e26c217ec62",
   "metadata": {},
   "outputs": [],
   "source": []
  }
 ],
 "metadata": {
  "kernelspec": {
   "display_name": "Python 3 (ipykernel)",
   "language": "python",
   "name": "python3"
  },
  "language_info": {
   "codemirror_mode": {
    "name": "ipython",
    "version": 3
   },
   "file_extension": ".py",
   "mimetype": "text/x-python",
   "name": "python",
   "nbconvert_exporter": "python",
   "pygments_lexer": "ipython3",
   "version": "3.10.12"
  }
 },
 "nbformat": 4,
 "nbformat_minor": 5
}
