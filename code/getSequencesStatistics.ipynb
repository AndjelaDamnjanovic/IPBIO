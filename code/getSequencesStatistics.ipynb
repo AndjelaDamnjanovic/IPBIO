{
 "cells": [
  {
   "cell_type": "code",
   "execution_count": 27,
   "id": "60894dde-1b5c-42ef-865b-7e06952ef59c",
   "metadata": {},
   "outputs": [],
   "source": [
    "def writeStatistics(inFile, outFile):\n",
    "    minOrderedPercentage = 100\n",
    "    minDisorderedPercentage = 100\n",
    "    \n",
    "    maxOrderedPercentage = 0\n",
    "    maxDisorderedPercentage = 0\n",
    "    \n",
    "    avgOrderedPercentage = 0\n",
    "    avgDisorderedPercentage = 0\n",
    "    \n",
    "    orderedPercentages = 0\n",
    "    disorderedPercentages = 0\n",
    "    \n",
    "    numInstances = 0\n",
    "    \n",
    "    with open(inFile, \"r\") as inf:\n",
    "        line = inf.readline()\n",
    "        while line != '':\n",
    "            parts = line.split(' ')\n",
    "            \n",
    "            ordPercentage = parts[3]\n",
    "            disordPercentage = parts[6]\n",
    "            if ordPercentage != '/':\n",
    "                ordPercentage = float(ordPercentage)\n",
    "                if ordPercentage < minOrderedPercentage:\n",
    "                    minOrderedPercentage = ordPercentage\n",
    "                elif ordPercentage > maxOrderedPercentage:\n",
    "                    maxOrderedPercentage = ordPercentage\n",
    "                orderedPercentages += ordPercentage\n",
    "            else:\n",
    "                orderedPercentages += 0\n",
    "            if disordPercentage != '/':\n",
    "                disordPercentage = float(disordPercentage)\n",
    "                if disordPercentage < minDisorderedPercentage:\n",
    "                    minDisorderedPercentage = disordPercentage\n",
    "                elif disordPercentage > maxDisorderedPercentage:\n",
    "                    maxDisorderedPercentage = disordPercentage\n",
    "                disorderedPercentages += disordPercentage\n",
    "            else:\n",
    "                disorderedPercentages += 0\n",
    "            numInstances += 1\n",
    "            line = inf.readline()\n",
    "    avgDisorderedPercentage = disorderedPercentages / numInstances\n",
    "    avgOrderedPercentage = orderedPercentages / numInstances\n",
    "    print(inFile)\n",
    "    print(avgDisorderedPercentage)\n",
    "    print(avgOrderedPercentage)\n",
    "    print(\"------------------------------------------------\")\n",
    "    \n",
    "    with open(outFile, \"a\") as outf:\n",
    "        outf.write(inFile + \": \" + str(avgOrderedPercentage) + \" \" + str(avgDisorderedPercentage))\n",
    "        outf.write(\"\\n\")"
   ]
  },
  {
   "cell_type": "code",
   "execution_count": 28,
   "id": "e55c4b32-7e77-4cd5-b3c2-877a74b5ea3f",
   "metadata": {},
   "outputs": [
    {
     "name": "stdout",
     "output_type": "stream",
     "text": [
      "../results/finalResultsSequencesTest1.txt\n",
      "0.7532869884103398\n",
      "94.67569778480677\n",
      "------------------------------------------------\n",
      "../results/finalResultsSequencesTest2.txt\n",
      "0.6864214316235392\n",
      "95.46699472897077\n",
      "------------------------------------------------\n",
      "../results/finalResultsSequencesTest3.txt\n",
      "1.0492914618142521\n",
      "94.28022152981599\n",
      "------------------------------------------------\n",
      "../results/finalResultsSequencesTest4.txt\n",
      "0.4723925660139416\n",
      "95.22903406098688\n",
      "------------------------------------------------\n",
      "../results/finalResultsSequencesTest5.txt\n",
      "0.9186378615612956\n",
      "94.50819357062036\n",
      "------------------------------------------------\n"
     ]
    }
   ],
   "source": [
    "inFiles = [\"../results/finalResultsSequencesTest1.txt\", \"../results/finalResultsSequencesTest2.txt\", \"../results/finalResultsSequencesTest3.txt\", \"../results/finalResultsSequencesTest4.txt\", \"../results/finalResultsSequencesTest5.txt\"]\n",
    "outFile = \"../statistics/testSequencesStat.txt\"\n",
    "for file in inFiles:\n",
    "    writeStatistics(file, outFile)"
   ]
  },
  {
   "cell_type": "code",
   "execution_count": null,
   "id": "9cb2d5cc-003d-4d87-81ce-50b154850dba",
   "metadata": {},
   "outputs": [],
   "source": []
  }
 ],
 "metadata": {
  "kernelspec": {
   "display_name": "Python 3 (ipykernel)",
   "language": "python",
   "name": "python3"
  },
  "language_info": {
   "codemirror_mode": {
    "name": "ipython",
    "version": 3
   },
   "file_extension": ".py",
   "mimetype": "text/x-python",
   "name": "python",
   "nbconvert_exporter": "python",
   "pygments_lexer": "ipython3",
   "version": "3.10.12"
  }
 },
 "nbformat": 4,
 "nbformat_minor": 5
}
