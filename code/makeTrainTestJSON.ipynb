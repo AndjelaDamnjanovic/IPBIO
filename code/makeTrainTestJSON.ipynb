{
 "cells": [
  {
   "cell_type": "code",
   "execution_count": 1,
   "id": "973abcca-68c6-4d34-ad27-def1a6493f38",
   "metadata": {},
   "outputs": [],
   "source": [
    "import json\n",
    "import sys\n",
    "import re\n",
    "import random\n",
    "import numpy as np"
   ]
  },
  {
   "cell_type": "code",
   "execution_count": 2,
   "id": "dd288c65-8fc0-4f9b-aa12-7220836c48bc",
   "metadata": {},
   "outputs": [],
   "source": [
    "def processFile(podaci, n):\n",
    "    #informacije o svakom proteinu pocinju poljem features, pa cemo po tome da delimo fajl\n",
    "    #posto StatRepeats prima .fasta fajl, od datom JSON fajla zelimo da napravimo fasta fajl koji ce \n",
    "    #sadrzati id proteina i njegovu sekvencu\n",
    "    names=[]\n",
    "    sequences=[]\n",
    "    disprot_ids=[]\n",
    "    organisms=[]\n",
    "\n",
    "    for i in range(n):\n",
    "        names.append(podaci[i]['name'])\n",
    "        sequences.append(podaci[i]['sequence'])\n",
    "        disprot_ids.append(podaci[i]['disprot_id'])\n",
    "        organisms.append(podaci[i]['organism'])\n",
    "\n",
    "    #provera da li svi proteini imaju date osobine\n",
    "    print(len(names))\n",
    "    print(len(sequences))\n",
    "    print(len(disprot_ids))\n",
    "    print(len(organisms))\n",
    "    return names, sequences, disprot_ids, organisms"
   ]
  },
  {
   "cell_type": "code",
   "execution_count": 3,
   "id": "f5e5117d-7d8e-47ad-b5a8-d4b33ff8e207",
   "metadata": {},
   "outputs": [],
   "source": [
    "trainFile = None\n",
    "testFile= None"
   ]
  },
  {
   "cell_type": "code",
   "execution_count": 4,
   "id": "c51bf786-b340-45b8-a3aa-cd6b70a1deb5",
   "metadata": {},
   "outputs": [],
   "source": [
    "def dumpToJson(testFile, trainFile):\n",
    "    with open(testFile, \"w\") as f:\n",
    "        f.write(json.dumps(jsonTest))\n",
    "    with open(trainFile, \"w\") as f:\n",
    "        f.write(json.dumps(jsonTrain))"
   ]
  },
  {
   "cell_type": "code",
   "execution_count": 22,
   "id": "603b9986-4e55-4bad-9a78-7c1d0bedb69a",
   "metadata": {},
   "outputs": [
    {
     "name": "stdout",
     "output_type": "stream",
     "text": [
      "4\n",
      "5\n",
      "6\n",
      "7\n",
      "8\n",
      "9\n",
      "10\n",
      "11\n"
     ]
    }
   ],
   "source": [
    "wanted_ids = [\"DP01407\", \"DP03090\", \"DP01558\", \"DP02313\", \"DP00113\", \"DP00164\", \"DP00277\", \"DP00432\", \"DP00475\", \"DP00705\", \"DP00884\", \"DP01243\"]\n",
    "trainFile = []\n",
    "with open(\"../trainSets/DNAtrainSet.json\", \"a\") as train:\n",
    "    for i in range(4):\n",
    "        f = open(\"../datasets/CaenorhabditisElegans.json\", \"r\")\n",
    "        podaci = json.load(f)\n",
    "        f.close()\n",
    "\n",
    "        podaci = podaci['data']\n",
    "        n = len(podaci)\n",
    "        for j in range(n):\n",
    "            if podaci[j]['disprot_id'] == wanted_ids[i]:\n",
    "                trainFile.append(podaci[i])\n",
    "    for i in range(4, 12):\n",
    "        print(i)\n",
    "        f = open(\"../datasets/SaccharomycesCerevisiae.json\", \"r\")\n",
    "        podaci = json.load(f)\n",
    "        podaci = podaci['data']\n",
    "        n = len(podaci)\n",
    "\n",
    "        for j in range(n):\n",
    "            if podaci[j]['disprot_id'] == wanted_ids[i]:\n",
    "                trainFile.append(podaci[i])\n",
    "    train.write(json.dumps(trainFile))"
   ]
  },
  {
   "cell_type": "code",
   "execution_count": 26,
   "id": "d6af44a4-9f6c-440f-891a-42ce2d2ae496",
   "metadata": {},
   "outputs": [
    {
     "name": "stdout",
     "output_type": "stream",
     "text": [
      "2\n",
      "3\n",
      "4\n",
      "5\n"
     ]
    }
   ],
   "source": [
    "wanted_ids = [\"DP02988\", \"DP03057\", \"DP00009\", \"DP00179\", \"DP00818\", \"DP00995\"]\n",
    "testFile = []\n",
    "with open(\"../testSets/DNAtestSet.json\", \"a\") as test:\n",
    "    for i in range(2):\n",
    "        f = open(\"../datasets/CaenorhabditisElegans.json\", \"r\")\n",
    "        podaci = json.load(f)\n",
    "        f.close()\n",
    "\n",
    "        podaci = podaci['data']\n",
    "        n = len(podaci)\n",
    "        for j in range(n):\n",
    "            if podaci[j]['disprot_id'] == wanted_ids[i]:\n",
    "                testFile.append(podaci[i])\n",
    "    for i in range(2, 6):\n",
    "        print(i)\n",
    "        f = open(\"../datasets/SaccharomycesCerevisiae.json\", \"r\")\n",
    "        podaci = json.load(f)\n",
    "        podaci = podaci['data']\n",
    "        n = len(podaci)\n",
    "\n",
    "        for j in range(n):\n",
    "            if podaci[j]['disprot_id'] == wanted_ids[i]:\n",
    "                testFile.append(podaci[i])\n",
    "    test.write(json.dumps(testFile))"
   ]
  },
  {
   "cell_type": "code",
   "execution_count": null,
   "id": "65e3d22f-166d-4f17-9804-255c76c56e86",
   "metadata": {},
   "outputs": [],
   "source": []
  }
 ],
 "metadata": {
  "kernelspec": {
   "display_name": "Python 3 (ipykernel)",
   "language": "python",
   "name": "python3"
  },
  "language_info": {
   "codemirror_mode": {
    "name": "ipython",
    "version": 3
   },
   "file_extension": ".py",
   "mimetype": "text/x-python",
   "name": "python",
   "nbconvert_exporter": "python",
   "pygments_lexer": "ipython3",
   "version": "3.10.12"
  }
 },
 "nbformat": 4,
 "nbformat_minor": 5
}
