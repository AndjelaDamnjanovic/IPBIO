{
 "cells": [
  {
   "cell_type": "code",
   "execution_count": 1,
   "id": "e5e4225b-b0fa-4654-a465-f3af924ff6bd",
   "metadata": {},
   "outputs": [],
   "source": [
    "import re"
   ]
  },
  {
   "cell_type": "code",
   "execution_count": 2,
   "id": "1b8462c4-780d-4071-9c99-b076f0cb8278",
   "metadata": {},
   "outputs": [],
   "source": [
    "def findRepeats(data):\n",
    "    repeats=re.findall(\"[A-Z]+\\n\", data)\n",
    "    ids=re.findall(\"DP[0-9]+\", data)\n",
    "    for i in range(len(repeats)):\n",
    "        repeats[i]=repeats[i].strip()\n",
    "    data=data.split('\\n')\n",
    "    return repeats, data"
   ]
  },
  {
   "cell_type": "code",
   "execution_count": 3,
   "id": "31632562-b3ea-4a49-992d-05a493383cdb",
   "metadata": {},
   "outputs": [],
   "source": [
    "disprot_ids = []\n",
    "start_fst = []\n",
    "end_fst = []\n",
    "start_snd = []\n",
    "end_snd = []\n",
    "lens = []\n",
    "repeats = []"
   ]
  },
  {
   "cell_type": "code",
   "execution_count": 4,
   "id": "51b75d71-60f3-49a8-87e3-a1e5a27dbe49",
   "metadata": {},
   "outputs": [],
   "source": [
    "def findMaximalRepeats(data):\n",
    "    split_data = data[0].split(',')\n",
    "    disprot_ids.append(split_data[0])\n",
    "    start_fst.append(split_data[1])\n",
    "    end_fst.append(split_data[2])\n",
    "    start_snd.append(split_data[3])\n",
    "    end_snd.append(split_data[4])\n",
    "    lens.append(split_data[5])\n",
    "    repeats.append(split_data[6])\n",
    "\n",
    "    listIndex = 0 # dodala sam prvi clan niza, azuriram ga samo onda kada dodajem elemente u njega\n",
    "\n",
    "    for i in range(1, len(data)):\n",
    "        split_data = data[i].split(',')\n",
    "        if split_data[5] < lens[listIndex]: # ako je duzina novog ponovka manja od starog, treba da ispitmo da li se novi sadrzi u starom\n",
    "            notSubstring = split_data[6] not in repeats[listIndex]\n",
    "            intersectingFst = split_data[1] >= start_fst[listIndex] and split_data[2]<= end_fst[listIndex]\n",
    "            intersectingSnd = split_data[1] >= start_snd[listIndex] and split_data[2]<= end_snd[listIndex]\n",
    "            if notSubstring and (not intersectingFst) and (not intersectingSnd) :# ako jedan nije podstring drugog, onda ga dodajemo\n",
    "                disprot_ids.append(split_data[0])\n",
    "                start_fst.append(split_data[1])\n",
    "                end_fst.append(split_data[2])\n",
    "                start_snd.append(split_data[3])\n",
    "                end_snd.append(split_data[4])\n",
    "                lens.append(split_data[5])\n",
    "                repeats.append(split_data[6])\n",
    "\n",
    "                listIndex+=1\n",
    "        else: # ako je duzina veca ili ista onda smo sigurno naisli na novi element i dodajemo ga u listu\n",
    "            disprot_ids.append(split_data[0])\n",
    "            start_fst.append(split_data[1])\n",
    "            end_fst.append(split_data[2])\n",
    "            start_snd.append(split_data[3])\n",
    "            end_snd.append(split_data[4])\n",
    "            lens.append(split_data[5])\n",
    "            repeats.append(split_data[6])\n",
    "\n",
    "            listIndex+=1"
   ]
  },
  {
   "cell_type": "code",
   "execution_count": 5,
   "id": "cfca8570-5dbf-4967-bed2-5186feab3dde",
   "metadata": {},
   "outputs": [],
   "source": [
    "def writeToFile(filename):\n",
    "    f = open(filename, \"a\")\n",
    "    for i in range(len(repeats)):\n",
    "        content = disprot_ids[i] + \",\" + start_fst[i] + \",\" + end_fst[i] + \",\" + start_snd[i] + \",\" + end_snd[i] + \",\" + lens[i] + \",\" + repeats[i] + \"\\n\"\n",
    "        f.write(content)\n",
    "    f.close()"
   ]
  },
  {
   "cell_type": "code",
   "execution_count": 8,
   "id": "c3be8684-21a8-4305-b241-1957103e9c25",
   "metadata": {},
   "outputs": [],
   "source": [
    "filesToProcess = ['fastaInfo/direct31.fasta.load', 'fastaInfo/direct32.fasta.load', 'fastaInfo/direct33.fasta.load','fastaInfo/direct34.fasta.load','fastaInfo/direct35.fasta.load']\n",
    "i = 1\n",
    "for file in filesToProcess:\n",
    "    f=open(file, \"r\")\n",
    "    data=f.read()\n",
    "    repeatSeq, data = findRepeats(data)\n",
    "    outputFile = \"maxRepeats/directMaximalRepeats\" + str(i) + \".txt\"\n",
    "    i+=1\n",
    "    findMaximalRepeats(data)\n",
    "    writeToFile(outputFile)\n",
    "\n",
    "    disprot_ids = []\n",
    "    start_fst = []\n",
    "    end_fst = []\n",
    "    start_snd = []\n",
    "    end_snd = []\n",
    "    lens = []\n",
    "    repeats = []"
   ]
  },
  {
   "cell_type": "code",
   "execution_count": 9,
   "id": "3213c957-c3c6-4f0c-9cda-0677f97ee1e8",
   "metadata": {},
   "outputs": [],
   "source": [
    "filesToProcess = ['fastaInfo/indirect31.fasta.load', 'fastaInfo/indirect32.fasta.load', 'fastaInfo/indirect33.fasta.load','fastaInfo/indirect34.fasta.load','fastaInfo/indirect35.fasta.load']\n",
    "i = 1\n",
    "for file in filesToProcess:\n",
    "    f=open(file, \"r\")\n",
    "    data=f.read()\n",
    "    repeatSeq, data = findRepeats(data)\n",
    "    outputFile = \"maxRepeats/indirectMaximalRepeats\" + str(i) + \".txt\"\n",
    "    i+=1\n",
    "    findMaximalRepeats(data)\n",
    "    writeToFile(outputFile)\n",
    "\n",
    "    disprot_ids = []\n",
    "    start_fst = []\n",
    "    end_fst = []\n",
    "    start_snd = []\n",
    "    end_snd = []\n",
    "    lens = []\n",
    "    repeats = []"
   ]
  },
  {
   "cell_type": "code",
   "execution_count": null,
   "id": "d0ee19c3-2d58-424b-88da-1058f4ffc494",
   "metadata": {},
   "outputs": [],
   "source": []
  }
 ],
 "metadata": {
  "kernelspec": {
   "display_name": "Python 3 (ipykernel)",
   "language": "python",
   "name": "python3"
  },
  "language_info": {
   "codemirror_mode": {
    "name": "ipython",
    "version": 3
   },
   "file_extension": ".py",
   "mimetype": "text/x-python",
   "name": "python",
   "nbconvert_exporter": "python",
   "pygments_lexer": "ipython3",
   "version": "3.10.12"
  }
 },
 "nbformat": 4,
 "nbformat_minor": 5
}
