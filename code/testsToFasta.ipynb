{
 "cells": [
  {
   "cell_type": "code",
   "execution_count": 1,
   "id": "269eb92b-c45c-43dc-8b5c-e7c205e55ba9",
   "metadata": {},
   "outputs": [
    {
     "name": "stdout",
     "output_type": "stream",
     "text": [
      "791\n",
      "791\n",
      "791\n",
      "791\n",
      "791\n"
     ]
    }
   ],
   "source": [
    "import json\n",
    "import sys\n",
    "import re\n",
    "from Bio import SeqIO\n",
    "from Bio.SeqRecord import SeqRecord\n",
    "from Bio.Seq import Seq\n",
    "\n",
    "j=1\n",
    "filenames = [\"../testSets/testSet1.json\", \"../testSets/testSet2.json\", \"../testSets/testSet3.json\", \"../testSets/testSet4.json\", \"../testSets/testSet5.json\"]\n",
    "\n",
    "for filename in filenames:\n",
    "    f=open(filename)\n",
    "    podaci=json.load(f)\n",
    "    f.close()\n",
    "\n",
    "    file_out='../testSets/testSet' + str(j) +'.fasta'\n",
    "    j+=1\n",
    "\n",
    "    n = len(podaci)\n",
    "\n",
    "    print(n)\n",
    "\n",
    "    names=[]\n",
    "    sequences=[]\n",
    "    disprot_ids=[]\n",
    "    organisms=[]\n",
    "\n",
    "    for i in range(n):\n",
    "        names.append(podaci[i]['name'])\n",
    "        sequences.append(podaci[i]['sequence'])\n",
    "        disprot_ids.append(podaci[i]['disprot_id'])\n",
    "        organisms.append(podaci[i]['organism'])\n",
    "\n",
    "    #sada zelimo da napravimo .fasta fajl na osnovu podataka koje smo izvukli iz JSON fajla\n",
    "#to radimo koriscenjem biblioteke Bio iz Pajtona\n",
    "\n",
    "    with open(file_out, 'w') as f_out:\n",
    "        for i in range(n):\n",
    "            record=SeqRecord(\n",
    "            Seq(sequences[i]),\n",
    "            id=disprot_ids[i],\n",
    "            name=names[i],\n",
    "            description=organisms[i])\n",
    "            \n",
    "            r=SeqIO.write(record, f_out, 'fasta')\n",
    "\n",
    "            if r!=1: \n",
    "                print('Error while writing sequence:  ' + record.id)    "
   ]
  },
  {
   "cell_type": "code",
   "execution_count": null,
   "id": "2be9977b-8f46-43eb-b08c-2a3653a587c4",
   "metadata": {},
   "outputs": [],
   "source": []
  }
 ],
 "metadata": {
  "kernelspec": {
   "display_name": "Python 3 (ipykernel)",
   "language": "python",
   "name": "python3"
  },
  "language_info": {
   "codemirror_mode": {
    "name": "ipython",
    "version": 3
   },
   "file_extension": ".py",
   "mimetype": "text/x-python",
   "name": "python",
   "nbconvert_exporter": "python",
   "pygments_lexer": "ipython3",
   "version": "3.10.12"
  }
 },
 "nbformat": 4,
 "nbformat_minor": 5
}
