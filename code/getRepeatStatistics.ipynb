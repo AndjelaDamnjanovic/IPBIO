{
 "cells": [
  {
   "cell_type": "code",
   "execution_count": 3,
   "id": "e0b3657c-450c-4cd1-931f-397a272d39ab",
   "metadata": {},
   "outputs": [],
   "source": [
    "def writeStatistics(inFile, outFile):\n",
    "    minOrderedPercentage = 100\n",
    "    minDisorderedPercentage = 100\n",
    "    \n",
    "    maxOrderedPercentage = 0\n",
    "    maxDisorderedPercentage = 0\n",
    "    \n",
    "    avgOrderedPercentage = 0\n",
    "    avgDisorderedPercentage = 0\n",
    "    \n",
    "    orderedPercentages = 0\n",
    "    disorderedPercentages = 0\n",
    "    \n",
    "    numInstances = 0\n",
    "    \n",
    "    with open(inFile, \"r\") as inf:\n",
    "        line = inf.readline()\n",
    "        while line != '':\n",
    "            parts = line.split(' ')\n",
    "            \n",
    "            ordPercentage = parts[3]\n",
    "            disordPercentage = parts[6]\n",
    "            if ordPercentage != '/':\n",
    "                ordPercentage = float(ordPercentage)\n",
    "                if ordPercentage < minOrderedPercentage:\n",
    "                    minOrderedPercentage = ordPercentage\n",
    "                elif ordPercentage > maxOrderedPercentage:\n",
    "                    maxOrderedPercentage = ordPercentage\n",
    "                orderedPercentages += ordPercentage\n",
    "            else:\n",
    "                orderedPercentages += 0\n",
    "            if disordPercentage != '/':\n",
    "                disordPercentage = float(disordPercentage)\n",
    "                if disordPercentage < minDisorderedPercentage:\n",
    "                    minDisorderedPercentage = disordPercentage\n",
    "                elif disordPercentage > maxDisorderedPercentage:\n",
    "                    maxDisorderedPercentage = disordPercentage\n",
    "                disorderedPercentages += disordPercentage\n",
    "            else:\n",
    "                disorderedPercentages += 0\n",
    "            numInstances += 1\n",
    "            line = inf.readline()\n",
    "    avgDisorderedPercentage = disorderedPercentages / numInstances\n",
    "    avgOrderedPercentage = orderedPercentages / numInstances\n",
    "    \"\"\"\n",
    "    print(avgDisorderedPercentage)\n",
    "    print(avgOrderedPercentage)\n",
    "    print(numInstances)\n",
    "    \"\"\"\n",
    "    with open(outFile, \"a\") as outf:\n",
    "        outf.write(inFile + \": \" + str(avgOrderedPercentage) + \" \" + str(avgDisorderedPercentage))\n",
    "        outf.write(\"\\n\")"
   ]
  },
  {
   "cell_type": "code",
   "execution_count": 4,
   "id": "1419cbdf-2faa-4a4a-921d-8dc6a8f16f76",
   "metadata": {},
   "outputs": [],
   "source": [
    "inFiles = [\"../results/finalResultsTest1.txt\", \"../results/finalResultsTest2.txt\", \"../results/finalResultsTest3.txt\", \"../results/finalResultsTest4.txt\", \"../results/finalResultsTest5.txt\"]\n",
    "outFile = \"../statistics/testRepeatsStat.txt\"\n",
    "for file in inFiles:\n",
    "    writeStatistics(file, outFile)"
   ]
  },
  {
   "cell_type": "code",
   "execution_count": 9,
   "id": "1b6c9ad5-f489-4dd4-8ae5-a7419fb10fc8",
   "metadata": {},
   "outputs": [
    {
     "name": "stdout",
     "output_type": "stream",
     "text": [
      "proba,proba\n"
     ]
    }
   ],
   "source": []
  },
  {
   "cell_type": "code",
   "execution_count": null,
   "id": "9200ba4d-51a1-4c9b-9abd-44b171819869",
   "metadata": {},
   "outputs": [],
   "source": []
  }
 ],
 "metadata": {
  "kernelspec": {
   "display_name": "Python 3 (ipykernel)",
   "language": "python",
   "name": "python3"
  },
  "language_info": {
   "codemirror_mode": {
    "name": "ipython",
    "version": 3
   },
   "file_extension": ".py",
   "mimetype": "text/x-python",
   "name": "python",
   "nbconvert_exporter": "python",
   "pygments_lexer": "ipython3",
   "version": "3.10.12"
  }
 },
 "nbformat": 4,
 "nbformat_minor": 5
}
