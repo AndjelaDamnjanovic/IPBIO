{
 "cells": [
  {
   "cell_type": "code",
   "execution_count": 5,
   "id": "c21b6afd-8909-45c6-8d7f-e08aea93885e",
   "metadata": {},
   "outputs": [
    {
     "name": "stdout",
     "output_type": "stream",
     "text": [
      "1179\n",
      "1179\n",
      "1179\n",
      "1179\n",
      "1179\n"
     ]
    }
   ],
   "source": [
    "import json\n",
    "import sys\n",
    "import re\n",
    "import csv\n",
    "from Bio import SeqIO\n",
    "from Bio.SeqRecord import SeqRecord\n",
    "from Bio.Seq import Seq\n",
    "\n",
    "j=1\n",
    "filenames = [\"../trainSets/trainSet1.json\", \"../trainSets/trainSet2.json\", \"../trainSets/trainSet3.json\", \"../trainSets/trainSet4.json\", \"../trainSets/trainSet5.json\"]\n",
    "\n",
    "for filename in filenames:\n",
    "    f = open(filename)\n",
    "    podaci = json.load(f)\n",
    "    f.close()\n",
    "\n",
    "    file_out_id_structural_state = '../preprocessedFiles/idStructuralState' + str(j) +'.tsv'\n",
    "    file_out_id_transitions = '../preprocessedFiles/idTransitions' + str(j) +'.tsv'\n",
    "    \n",
    "    j += 1\n",
    "\n",
    "    n = len(podaci)\n",
    "\n",
    "    print(n)\n",
    "\n",
    "    structural_state_starts = []\n",
    "    structural_state_ends = []\n",
    "    transition_starts = []\n",
    "    transition_ends = []\n",
    "    disprot_ids_structural_state = []\n",
    "    disprot_ids_transition = []\n",
    "\n",
    "    for i in range(n):\n",
    "        regions = podaci[i]['disprot_consensus']['Structural state']\n",
    "        for region in regions:\n",
    "                if region[\"type\"] == \"D\":\n",
    "                    structural_state_starts.append(region[\"start\"])\n",
    "                    structural_state_ends.append(region[\"end\"])\n",
    "                    disprot_ids_structural_state.append(podaci[i][\"disprot_id\"])\n",
    "        transitions = podaci[i]['disprot_consensus'].get('Structural transition')        \n",
    "        if (transitions is not None):\n",
    "            for transition in transitions:\n",
    "                if transition[\"type\"] == \"T\":\n",
    "                    transition_starts.append(transition[\"start\"])\n",
    "                    transition_ends.append(transition[\"end\"])\n",
    "                    disprot_ids_transition.append(podaci[i]['disprot_id'])\n",
    "\n",
    "    with open(file_out_id_structural_state, 'w', newline='') as tsvfile:\n",
    "        writer = csv.writer(tsvfile, delimiter='\\t', lineterminator='\\n')\n",
    "        for i in range(len(disprot_ids)):\n",
    "            writer.writerow([disprot_ids_structural_state[i], str(structural_state_starts[i]), str(st)])\n",
    "            f_out.write(disprot_ids_structural_state[i] + \": \" + str(structural_state_starts[i]) + \" \" + str(structural_state_ends[i]) + \"\\n\")\n",
    "    with open(file_out_id_transitions, 'w') as f_out:\n",
    "        for i in range(len(disprot_ids_transition)):\n",
    "            f_out.write(disprot_ids_transition[i] + \": \" + str(transition_starts[i]) + \" \" + str(transition_ends[i]) + \"\\n\")"
   ]
  },
  {
   "cell_type": "code",
   "execution_count": null,
   "id": "7305057f-f214-4452-99ea-10b7accc174b",
   "metadata": {},
   "outputs": [],
   "source": []
  }
 ],
 "metadata": {
  "kernelspec": {
   "display_name": "Python 3 (ipykernel)",
   "language": "python",
   "name": "python3"
  },
  "language_info": {
   "codemirror_mode": {
    "name": "ipython",
    "version": 3
   },
   "file_extension": ".py",
   "mimetype": "text/x-python",
   "name": "python",
   "nbconvert_exporter": "python",
   "pygments_lexer": "ipython3",
   "version": "3.10.12"
  }
 },
 "nbformat": 4,
 "nbformat_minor": 5
}
