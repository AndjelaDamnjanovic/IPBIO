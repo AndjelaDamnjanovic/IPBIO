{
 "cells": [
  {
   "cell_type": "code",
   "execution_count": 2,
   "id": "c21b6afd-8909-45c6-8d7f-e08aea93885e",
   "metadata": {},
   "outputs": [
    {
     "name": "stdout",
     "output_type": "stream",
     "text": [
      "1179\n",
      "1179\n",
      "1179\n",
      "1179\n",
      "1179\n"
     ]
    }
   ],
   "source": [
    "import json\n",
    "import sys\n",
    "import re\n",
    "import csv\n",
    "from Bio import SeqIO\n",
    "from Bio.SeqRecord import SeqRecord\n",
    "from Bio.Seq import Seq\n",
    "\n",
    "j=1\n",
    "filenames = [\"../trainSets/trainSet1.json\", \"../trainSets/trainSet2.json\", \"../trainSets/trainSet3.json\", \"../trainSets/trainSet4.json\", \"../trainSets/trainSet5.json\"]\n",
    "\n",
    "for filename in filenames:\n",
    "    f = open(filename)\n",
    "    podaci = json.load(f)\n",
    "    f.close()\n",
    "\n",
    "    file_out_id_uniprot = '../preprocessedFiles/idNcbiTaxon' + str(j) +'.tsv'\n",
    "    \n",
    "    j += 1\n",
    "\n",
    "    n = len(podaci)\n",
    "\n",
    "    print(n)\n",
    "\n",
    "    disprot_ids = []\n",
    "    ncbi_taxons = []\n",
    "\n",
    "    for i in range(n):\n",
    "        disprot_ids.append(podaci[i][\"disprot_id\"])\n",
    "        ncbi_taxons.append(podaci[i][\"ncbi_taxon_id\"])\n",
    "\n",
    "    with open(file_out_id_alphafold_content, 'w', newline='') as tsvfile:\n",
    "        writer = csv.writer(tsvfile, delimiter='\\t', lineterminator='\\n')\n",
    "        for i in range(len(alphafolds)):\n",
    "            writer.writerow([disprot_ids[i], alphafolds[i]])"
   ]
  },
  {
   "cell_type": "code",
   "execution_count": null,
   "id": "7305057f-f214-4452-99ea-10b7accc174b",
   "metadata": {},
   "outputs": [],
   "source": []
  }
 ],
 "metadata": {
  "kernelspec": {
   "display_name": "Python 3 (ipykernel)",
   "language": "python",
   "name": "python3"
  },
  "language_info": {
   "codemirror_mode": {
    "name": "ipython",
    "version": 3
   },
   "file_extension": ".py",
   "mimetype": "text/x-python",
   "name": "python",
   "nbconvert_exporter": "python",
   "pygments_lexer": "ipython3",
   "version": "3.10.12"
  }
 },
 "nbformat": 4,
 "nbformat_minor": 5
}
